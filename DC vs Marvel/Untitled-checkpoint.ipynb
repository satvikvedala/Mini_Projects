{
 "cells": [
  {
   "cell_type": "code",
   "execution_count": 145,
   "metadata": {},
   "outputs": [],
   "source": [
    "import numpy as np\n",
    "import pandas as pd\n",
    "import matplotlib.pyplot as plt\n",
    "import seaborn as sns\n",
    "import plotly.express as px"
   ]
  },
  {
   "cell_type": "code",
   "execution_count": 146,
   "metadata": {},
   "outputs": [],
   "source": [
    "df1 = pd.read_excel(r\"C:\\Users\\Sathwick Vedala\\Desktop\\desktop\\BA Journey\\Mini Projects\\3. Marvel vs DC\\Python\\Df1.xlsx\",index_col=0)"
   ]
  },
  {
   "cell_type": "code",
   "execution_count": 147,
   "metadata": {},
   "outputs": [],
   "source": [
    "df2 = pd.read_excel(r\"C:\\Users\\Sathwick Vedala\\Desktop\\desktop\\BA Journey\\Mini Projects\\3. Marvel vs DC\\Python\\Df2.xlsx\",index_col=0)"
   ]
  },
  {
   "cell_type": "code",
   "execution_count": 148,
   "metadata": {},
   "outputs": [],
   "source": [
    "df3 = pd.read_excel(r\"C:\\Users\\Sathwick Vedala\\Desktop\\desktop\\BA Journey\\Mini Projects\\3. Marvel vs DC\\Python\\Df3.xlsx\",index_col=0)"
   ]
  },
  {
   "cell_type": "code",
   "execution_count": 149,
   "metadata": {},
   "outputs": [
    {
     "data": {
      "text/html": [
       "<div>\n",
       "<style scoped>\n",
       "    .dataframe tbody tr th:only-of-type {\n",
       "        vertical-align: middle;\n",
       "    }\n",
       "\n",
       "    .dataframe tbody tr th {\n",
       "        vertical-align: top;\n",
       "    }\n",
       "\n",
       "    .dataframe thead th {\n",
       "        text-align: right;\n",
       "    }\n",
       "</style>\n",
       "<table border=\"1\" class=\"dataframe\">\n",
       "  <thead>\n",
       "    <tr style=\"text-align: right;\">\n",
       "      <th></th>\n",
       "      <th>Original Title</th>\n",
       "      <th>Company</th>\n",
       "      <th>Rate</th>\n",
       "      <th>Metascore</th>\n",
       "      <th>Minutes</th>\n",
       "      <th>Release</th>\n",
       "      <th>Budget</th>\n",
       "      <th>Opening Weekend USA</th>\n",
       "      <th>Gross USA</th>\n",
       "      <th>Original Title2</th>\n",
       "      <th>Company3</th>\n",
       "      <th>Gross Worldwide</th>\n",
       "      <th>Percentage Return</th>\n",
       "      <th>Hit/Flop</th>\n",
       "    </tr>\n",
       "    <tr>\n",
       "      <th>Sr.No</th>\n",
       "      <th></th>\n",
       "      <th></th>\n",
       "      <th></th>\n",
       "      <th></th>\n",
       "      <th></th>\n",
       "      <th></th>\n",
       "      <th></th>\n",
       "      <th></th>\n",
       "      <th></th>\n",
       "      <th></th>\n",
       "      <th></th>\n",
       "      <th></th>\n",
       "      <th></th>\n",
       "      <th></th>\n",
       "    </tr>\n",
       "  </thead>\n",
       "  <tbody>\n",
       "    <tr>\n",
       "      <th>24</th>\n",
       "      <td>Catwoman</td>\n",
       "      <td>DC</td>\n",
       "      <td>3.3</td>\n",
       "      <td>27</td>\n",
       "      <td>104</td>\n",
       "      <td>2004</td>\n",
       "      <td>100000000</td>\n",
       "      <td>16728411</td>\n",
       "      <td>40202379</td>\n",
       "      <td>Catwoman</td>\n",
       "      <td>DC</td>\n",
       "      <td>82102379</td>\n",
       "      <td>-0.178976</td>\n",
       "      <td>Flop</td>\n",
       "    </tr>\n",
       "    <tr>\n",
       "      <th>25</th>\n",
       "      <td>Batman Begins</td>\n",
       "      <td>DC</td>\n",
       "      <td>8.2</td>\n",
       "      <td>70</td>\n",
       "      <td>140</td>\n",
       "      <td>2005</td>\n",
       "      <td>150000000</td>\n",
       "      <td>48745440</td>\n",
       "      <td>206852432</td>\n",
       "      <td>Batman Begins</td>\n",
       "      <td>DC</td>\n",
       "      <td>373413297</td>\n",
       "      <td>1.489422</td>\n",
       "      <td>Hit</td>\n",
       "    </tr>\n",
       "    <tr>\n",
       "      <th>26</th>\n",
       "      <td>Superman Returns</td>\n",
       "      <td>DC</td>\n",
       "      <td>6.0</td>\n",
       "      <td>72</td>\n",
       "      <td>154</td>\n",
       "      <td>2006</td>\n",
       "      <td>270000000</td>\n",
       "      <td>52535096</td>\n",
       "      <td>200081192</td>\n",
       "      <td>Superman Returns</td>\n",
       "      <td>DC</td>\n",
       "      <td>391081192</td>\n",
       "      <td>0.448449</td>\n",
       "      <td>Hit</td>\n",
       "    </tr>\n",
       "    <tr>\n",
       "      <th>27</th>\n",
       "      <td>The Dark Knight</td>\n",
       "      <td>DC</td>\n",
       "      <td>9.0</td>\n",
       "      <td>84</td>\n",
       "      <td>152</td>\n",
       "      <td>2008</td>\n",
       "      <td>185000000</td>\n",
       "      <td>158411483</td>\n",
       "      <td>535234033</td>\n",
       "      <td>The Dark Knight</td>\n",
       "      <td>DC</td>\n",
       "      <td>1004934033</td>\n",
       "      <td>4.432076</td>\n",
       "      <td>Hit</td>\n",
       "    </tr>\n",
       "    <tr>\n",
       "      <th>2</th>\n",
       "      <td>The Incredible Hulk</td>\n",
       "      <td>Marvel</td>\n",
       "      <td>6.7</td>\n",
       "      <td>61</td>\n",
       "      <td>112</td>\n",
       "      <td>2008</td>\n",
       "      <td>150000000</td>\n",
       "      <td>55414050</td>\n",
       "      <td>134806913</td>\n",
       "      <td>The Incredible Hulk</td>\n",
       "      <td>Marvel</td>\n",
       "      <td>263427551</td>\n",
       "      <td>0.756184</td>\n",
       "      <td>Hit</td>\n",
       "    </tr>\n",
       "  </tbody>\n",
       "</table>\n",
       "</div>"
      ],
      "text/plain": [
       "            Original Title Company  Rate  Metascore  Minutes  Release  \\\n",
       "Sr.No                                                                   \n",
       "24                Catwoman      DC   3.3         27      104     2004   \n",
       "25           Batman Begins      DC   8.2         70      140     2005   \n",
       "26        Superman Returns      DC   6.0         72      154     2006   \n",
       "27         The Dark Knight      DC   9.0         84      152     2008   \n",
       "2      The Incredible Hulk  Marvel   6.7         61      112     2008   \n",
       "\n",
       "          Budget  Opening Weekend USA  Gross USA      Original Title2  \\\n",
       "Sr.No                                                                   \n",
       "24     100000000             16728411   40202379             Catwoman   \n",
       "25     150000000             48745440  206852432        Batman Begins   \n",
       "26     270000000             52535096  200081192     Superman Returns   \n",
       "27     185000000            158411483  535234033      The Dark Knight   \n",
       "2      150000000             55414050  134806913  The Incredible Hulk   \n",
       "\n",
       "      Company3  Gross Worldwide  Percentage Return Hit/Flop  \n",
       "Sr.No                                                        \n",
       "24          DC         82102379          -0.178976     Flop  \n",
       "25          DC        373413297           1.489422      Hit  \n",
       "26          DC        391081192           0.448449      Hit  \n",
       "27          DC       1004934033           4.432076      Hit  \n",
       "2       Marvel        263427551           0.756184      Hit  "
      ]
     },
     "execution_count": 149,
     "metadata": {},
     "output_type": "execute_result"
    }
   ],
   "source": [
    "df1.head()"
   ]
  },
  {
   "cell_type": "code",
   "execution_count": 150,
   "metadata": {},
   "outputs": [
    {
     "data": {
      "text/html": [
       "<div>\n",
       "<style scoped>\n",
       "    .dataframe tbody tr th:only-of-type {\n",
       "        vertical-align: middle;\n",
       "    }\n",
       "\n",
       "    .dataframe tbody tr th {\n",
       "        vertical-align: top;\n",
       "    }\n",
       "\n",
       "    .dataframe thead th {\n",
       "        text-align: right;\n",
       "    }\n",
       "</style>\n",
       "<table border=\"1\" class=\"dataframe\">\n",
       "  <thead>\n",
       "    <tr style=\"text-align: right;\">\n",
       "      <th></th>\n",
       "      <th>Original Title</th>\n",
       "      <th>Company</th>\n",
       "      <th>Rate</th>\n",
       "      <th>Metascore</th>\n",
       "      <th>Minutes</th>\n",
       "      <th>Release</th>\n",
       "      <th>Budget</th>\n",
       "      <th>Opening Weekend USA</th>\n",
       "      <th>Gross USA</th>\n",
       "      <th>Original Title2</th>\n",
       "      <th>Company3</th>\n",
       "      <th>Gross Worldwide</th>\n",
       "      <th>Percentage Return</th>\n",
       "      <th>Hit/Flop</th>\n",
       "    </tr>\n",
       "    <tr>\n",
       "      <th>Sr.No</th>\n",
       "      <th></th>\n",
       "      <th></th>\n",
       "      <th></th>\n",
       "      <th></th>\n",
       "      <th></th>\n",
       "      <th></th>\n",
       "      <th></th>\n",
       "      <th></th>\n",
       "      <th></th>\n",
       "      <th></th>\n",
       "      <th></th>\n",
       "      <th></th>\n",
       "      <th></th>\n",
       "      <th></th>\n",
       "    </tr>\n",
       "  </thead>\n",
       "  <tbody>\n",
       "    <tr>\n",
       "      <th>24</th>\n",
       "      <td>Catwoman</td>\n",
       "      <td>DC</td>\n",
       "      <td>3.3</td>\n",
       "      <td>27</td>\n",
       "      <td>104</td>\n",
       "      <td>2004</td>\n",
       "      <td>100000000</td>\n",
       "      <td>16728411</td>\n",
       "      <td>40202379</td>\n",
       "      <td>Catwoman</td>\n",
       "      <td>DC</td>\n",
       "      <td>82102379</td>\n",
       "      <td>-0.178976</td>\n",
       "      <td>Flop</td>\n",
       "    </tr>\n",
       "    <tr>\n",
       "      <th>25</th>\n",
       "      <td>Batman Begins</td>\n",
       "      <td>DC</td>\n",
       "      <td>8.2</td>\n",
       "      <td>70</td>\n",
       "      <td>140</td>\n",
       "      <td>2005</td>\n",
       "      <td>150000000</td>\n",
       "      <td>48745440</td>\n",
       "      <td>206852432</td>\n",
       "      <td>Batman Begins</td>\n",
       "      <td>DC</td>\n",
       "      <td>373413297</td>\n",
       "      <td>1.489422</td>\n",
       "      <td>Hit</td>\n",
       "    </tr>\n",
       "    <tr>\n",
       "      <th>26</th>\n",
       "      <td>Superman Returns</td>\n",
       "      <td>DC</td>\n",
       "      <td>6.0</td>\n",
       "      <td>72</td>\n",
       "      <td>154</td>\n",
       "      <td>2006</td>\n",
       "      <td>270000000</td>\n",
       "      <td>52535096</td>\n",
       "      <td>200081192</td>\n",
       "      <td>Superman Returns</td>\n",
       "      <td>DC</td>\n",
       "      <td>391081192</td>\n",
       "      <td>0.448449</td>\n",
       "      <td>Hit</td>\n",
       "    </tr>\n",
       "    <tr>\n",
       "      <th>27</th>\n",
       "      <td>The Dark Knight</td>\n",
       "      <td>DC</td>\n",
       "      <td>9.0</td>\n",
       "      <td>84</td>\n",
       "      <td>152</td>\n",
       "      <td>2008</td>\n",
       "      <td>185000000</td>\n",
       "      <td>158411483</td>\n",
       "      <td>535234033</td>\n",
       "      <td>The Dark Knight</td>\n",
       "      <td>DC</td>\n",
       "      <td>1004934033</td>\n",
       "      <td>4.432076</td>\n",
       "      <td>Hit</td>\n",
       "    </tr>\n",
       "    <tr>\n",
       "      <th>2</th>\n",
       "      <td>The Incredible Hulk</td>\n",
       "      <td>Marvel</td>\n",
       "      <td>6.7</td>\n",
       "      <td>61</td>\n",
       "      <td>112</td>\n",
       "      <td>2008</td>\n",
       "      <td>150000000</td>\n",
       "      <td>55414050</td>\n",
       "      <td>134806913</td>\n",
       "      <td>The Incredible Hulk</td>\n",
       "      <td>Marvel</td>\n",
       "      <td>263427551</td>\n",
       "      <td>0.756184</td>\n",
       "      <td>Hit</td>\n",
       "    </tr>\n",
       "    <tr>\n",
       "      <th>1</th>\n",
       "      <td>Iron Man</td>\n",
       "      <td>Marvel</td>\n",
       "      <td>7.9</td>\n",
       "      <td>79</td>\n",
       "      <td>126</td>\n",
       "      <td>2008</td>\n",
       "      <td>140000000</td>\n",
       "      <td>98618668</td>\n",
       "      <td>318604126</td>\n",
       "      <td>Iron Man</td>\n",
       "      <td>Marvel</td>\n",
       "      <td>585366247</td>\n",
       "      <td>3.181187</td>\n",
       "      <td>Hit</td>\n",
       "    </tr>\n",
       "    <tr>\n",
       "      <th>28</th>\n",
       "      <td>Watchmen</td>\n",
       "      <td>DC</td>\n",
       "      <td>7.6</td>\n",
       "      <td>56</td>\n",
       "      <td>162</td>\n",
       "      <td>2009</td>\n",
       "      <td>130000000</td>\n",
       "      <td>55214334</td>\n",
       "      <td>107509799</td>\n",
       "      <td>Watchmen</td>\n",
       "      <td>DC</td>\n",
       "      <td>185258983</td>\n",
       "      <td>0.425069</td>\n",
       "      <td>Hit</td>\n",
       "    </tr>\n",
       "    <tr>\n",
       "      <th>3</th>\n",
       "      <td>Iron Man 2</td>\n",
       "      <td>Marvel</td>\n",
       "      <td>7.0</td>\n",
       "      <td>57</td>\n",
       "      <td>124</td>\n",
       "      <td>2010</td>\n",
       "      <td>200000000</td>\n",
       "      <td>128122480</td>\n",
       "      <td>312433331</td>\n",
       "      <td>Iron Man 2</td>\n",
       "      <td>Marvel</td>\n",
       "      <td>623933331</td>\n",
       "      <td>2.119667</td>\n",
       "      <td>Hit</td>\n",
       "    </tr>\n",
       "    <tr>\n",
       "      <th>29</th>\n",
       "      <td>Jonah Hex</td>\n",
       "      <td>DC</td>\n",
       "      <td>4.7</td>\n",
       "      <td>33</td>\n",
       "      <td>81</td>\n",
       "      <td>2010</td>\n",
       "      <td>47000000</td>\n",
       "      <td>5379365</td>\n",
       "      <td>10547117</td>\n",
       "      <td>Jonah Hex</td>\n",
       "      <td>DC</td>\n",
       "      <td>10903312</td>\n",
       "      <td>-0.768015</td>\n",
       "      <td>Flop</td>\n",
       "    </tr>\n",
       "    <tr>\n",
       "      <th>5</th>\n",
       "      <td>Captain America: The First Avenger</td>\n",
       "      <td>Marvel</td>\n",
       "      <td>6.9</td>\n",
       "      <td>66</td>\n",
       "      <td>124</td>\n",
       "      <td>2011</td>\n",
       "      <td>140000000</td>\n",
       "      <td>65058524</td>\n",
       "      <td>176654505</td>\n",
       "      <td>Captain America: The First Avenger</td>\n",
       "      <td>Marvel</td>\n",
       "      <td>370569774</td>\n",
       "      <td>1.646927</td>\n",
       "      <td>Hit</td>\n",
       "    </tr>\n",
       "    <tr>\n",
       "      <th>4</th>\n",
       "      <td>Thor</td>\n",
       "      <td>Marvel</td>\n",
       "      <td>7.0</td>\n",
       "      <td>57</td>\n",
       "      <td>115</td>\n",
       "      <td>2011</td>\n",
       "      <td>150000000</td>\n",
       "      <td>65723338</td>\n",
       "      <td>181030624</td>\n",
       "      <td>Thor</td>\n",
       "      <td>Marvel</td>\n",
       "      <td>449326618</td>\n",
       "      <td>1.995511</td>\n",
       "      <td>Hit</td>\n",
       "    </tr>\n",
       "    <tr>\n",
       "      <th>30</th>\n",
       "      <td>Green Lantern</td>\n",
       "      <td>DC</td>\n",
       "      <td>5.5</td>\n",
       "      <td>39</td>\n",
       "      <td>114</td>\n",
       "      <td>2011</td>\n",
       "      <td>200000000</td>\n",
       "      <td>53174303</td>\n",
       "      <td>116601172</td>\n",
       "      <td>Green Lantern</td>\n",
       "      <td>DC</td>\n",
       "      <td>219851172</td>\n",
       "      <td>0.099256</td>\n",
       "      <td>Hit</td>\n",
       "    </tr>\n",
       "    <tr>\n",
       "      <th>31</th>\n",
       "      <td>The Dark Knight Rises</td>\n",
       "      <td>DC</td>\n",
       "      <td>8.4</td>\n",
       "      <td>78</td>\n",
       "      <td>164</td>\n",
       "      <td>2012</td>\n",
       "      <td>250000000</td>\n",
       "      <td>160887295</td>\n",
       "      <td>448139099</td>\n",
       "      <td>The Dark Knight Rises</td>\n",
       "      <td>DC</td>\n",
       "      <td>1081041287</td>\n",
       "      <td>3.324165</td>\n",
       "      <td>Hit</td>\n",
       "    </tr>\n",
       "    <tr>\n",
       "      <th>6</th>\n",
       "      <td>The Avengers</td>\n",
       "      <td>Marvel</td>\n",
       "      <td>8.0</td>\n",
       "      <td>69</td>\n",
       "      <td>143</td>\n",
       "      <td>2012</td>\n",
       "      <td>220000000</td>\n",
       "      <td>207438708</td>\n",
       "      <td>623357910</td>\n",
       "      <td>The Avengers</td>\n",
       "      <td>Marvel</td>\n",
       "      <td>1518812988</td>\n",
       "      <td>5.903695</td>\n",
       "      <td>Hit</td>\n",
       "    </tr>\n",
       "    <tr>\n",
       "      <th>32</th>\n",
       "      <td>Man of Steel</td>\n",
       "      <td>DC</td>\n",
       "      <td>7.1</td>\n",
       "      <td>55</td>\n",
       "      <td>143</td>\n",
       "      <td>2013</td>\n",
       "      <td>225000000</td>\n",
       "      <td>116619362</td>\n",
       "      <td>291045518</td>\n",
       "      <td>Man of Steel</td>\n",
       "      <td>DC</td>\n",
       "      <td>668045518</td>\n",
       "      <td>1.969091</td>\n",
       "      <td>Hit</td>\n",
       "    </tr>\n",
       "    <tr>\n",
       "      <th>8</th>\n",
       "      <td>Thor: The Dark World</td>\n",
       "      <td>Marvel</td>\n",
       "      <td>6.9</td>\n",
       "      <td>54</td>\n",
       "      <td>112</td>\n",
       "      <td>2013</td>\n",
       "      <td>170000000</td>\n",
       "      <td>85737841</td>\n",
       "      <td>206362140</td>\n",
       "      <td>Thor: The Dark World</td>\n",
       "      <td>Marvel</td>\n",
       "      <td>644783140</td>\n",
       "      <td>2.792842</td>\n",
       "      <td>Hit</td>\n",
       "    </tr>\n",
       "    <tr>\n",
       "      <th>7</th>\n",
       "      <td>Iron Man Three</td>\n",
       "      <td>Marvel</td>\n",
       "      <td>7.2</td>\n",
       "      <td>62</td>\n",
       "      <td>130</td>\n",
       "      <td>2013</td>\n",
       "      <td>200000000</td>\n",
       "      <td>174144585</td>\n",
       "      <td>409013994</td>\n",
       "      <td>Iron Man Three</td>\n",
       "      <td>Marvel</td>\n",
       "      <td>1214811252</td>\n",
       "      <td>5.074056</td>\n",
       "      <td>Hit</td>\n",
       "    </tr>\n",
       "    <tr>\n",
       "      <th>10</th>\n",
       "      <td>Guardians of the Galaxy</td>\n",
       "      <td>Marvel</td>\n",
       "      <td>8.0</td>\n",
       "      <td>76</td>\n",
       "      <td>121</td>\n",
       "      <td>2014</td>\n",
       "      <td>170000000</td>\n",
       "      <td>94320883</td>\n",
       "      <td>333176600</td>\n",
       "      <td>Guardians of the Galaxy</td>\n",
       "      <td>Marvel</td>\n",
       "      <td>772776600</td>\n",
       "      <td>3.545745</td>\n",
       "      <td>Hit</td>\n",
       "    </tr>\n",
       "    <tr>\n",
       "      <th>9</th>\n",
       "      <td>Captain America: The Winter Soldier</td>\n",
       "      <td>Marvel</td>\n",
       "      <td>7.7</td>\n",
       "      <td>70</td>\n",
       "      <td>136</td>\n",
       "      <td>2014</td>\n",
       "      <td>170000000</td>\n",
       "      <td>95023721</td>\n",
       "      <td>259766572</td>\n",
       "      <td>Captain America: The Winter Soldier</td>\n",
       "      <td>Marvel</td>\n",
       "      <td>714421503</td>\n",
       "      <td>3.202479</td>\n",
       "      <td>Hit</td>\n",
       "    </tr>\n",
       "    <tr>\n",
       "      <th>12</th>\n",
       "      <td>Ant-Man</td>\n",
       "      <td>Marvel</td>\n",
       "      <td>7.3</td>\n",
       "      <td>64</td>\n",
       "      <td>117</td>\n",
       "      <td>2015</td>\n",
       "      <td>130000000</td>\n",
       "      <td>57225526</td>\n",
       "      <td>180202163</td>\n",
       "      <td>Ant-Man</td>\n",
       "      <td>Marvel</td>\n",
       "      <td>519311965</td>\n",
       "      <td>2.994707</td>\n",
       "      <td>Hit</td>\n",
       "    </tr>\n",
       "    <tr>\n",
       "      <th>11</th>\n",
       "      <td>Avengers: Age of Ultron</td>\n",
       "      <td>Marvel</td>\n",
       "      <td>7.3</td>\n",
       "      <td>66</td>\n",
       "      <td>141</td>\n",
       "      <td>2015</td>\n",
       "      <td>250000000</td>\n",
       "      <td>191271109</td>\n",
       "      <td>459005868</td>\n",
       "      <td>Avengers: Age of Ultron</td>\n",
       "      <td>Marvel</td>\n",
       "      <td>1402805868</td>\n",
       "      <td>4.611223</td>\n",
       "      <td>Hit</td>\n",
       "    </tr>\n",
       "    <tr>\n",
       "      <th>33</th>\n",
       "      <td>Batman v Superman: Dawn of Justice</td>\n",
       "      <td>DC</td>\n",
       "      <td>6.5</td>\n",
       "      <td>44</td>\n",
       "      <td>151</td>\n",
       "      <td>2016</td>\n",
       "      <td>250000000</td>\n",
       "      <td>166007347</td>\n",
       "      <td>330360194</td>\n",
       "      <td>Batman v Superman: Dawn of Justice</td>\n",
       "      <td>DC</td>\n",
       "      <td>873634919</td>\n",
       "      <td>2.494540</td>\n",
       "      <td>Hit</td>\n",
       "    </tr>\n",
       "    <tr>\n",
       "      <th>14</th>\n",
       "      <td>Doctor Strange</td>\n",
       "      <td>Marvel</td>\n",
       "      <td>7.5</td>\n",
       "      <td>72</td>\n",
       "      <td>115</td>\n",
       "      <td>2016</td>\n",
       "      <td>165000000</td>\n",
       "      <td>85058311</td>\n",
       "      <td>232641920</td>\n",
       "      <td>Doctor Strange</td>\n",
       "      <td>Marvel</td>\n",
       "      <td>677718395</td>\n",
       "      <td>3.107384</td>\n",
       "      <td>Hit</td>\n",
       "    </tr>\n",
       "    <tr>\n",
       "      <th>13</th>\n",
       "      <td>Captain America: Civil War</td>\n",
       "      <td>Marvel</td>\n",
       "      <td>7.8</td>\n",
       "      <td>75</td>\n",
       "      <td>147</td>\n",
       "      <td>2016</td>\n",
       "      <td>250000000</td>\n",
       "      <td>179139142</td>\n",
       "      <td>408084349</td>\n",
       "      <td>Captain America: Civil War</td>\n",
       "      <td>Marvel</td>\n",
       "      <td>1153296293</td>\n",
       "      <td>3.613185</td>\n",
       "      <td>Hit</td>\n",
       "    </tr>\n",
       "    <tr>\n",
       "      <th>34</th>\n",
       "      <td>Suicide Squad</td>\n",
       "      <td>DC</td>\n",
       "      <td>6.0</td>\n",
       "      <td>40</td>\n",
       "      <td>123</td>\n",
       "      <td>2016</td>\n",
       "      <td>175000000</td>\n",
       "      <td>133682248</td>\n",
       "      <td>325100054</td>\n",
       "      <td>Suicide Squad</td>\n",
       "      <td>DC</td>\n",
       "      <td>746846894</td>\n",
       "      <td>3.267697</td>\n",
       "      <td>Hit</td>\n",
       "    </tr>\n",
       "    <tr>\n",
       "      <th>35</th>\n",
       "      <td>Wonder Woman</td>\n",
       "      <td>DC</td>\n",
       "      <td>7.4</td>\n",
       "      <td>76</td>\n",
       "      <td>141</td>\n",
       "      <td>2017</td>\n",
       "      <td>149000000</td>\n",
       "      <td>103251471</td>\n",
       "      <td>412563408</td>\n",
       "      <td>Wonder Woman</td>\n",
       "      <td>DC</td>\n",
       "      <td>821847012</td>\n",
       "      <td>4.515752</td>\n",
       "      <td>Hit</td>\n",
       "    </tr>\n",
       "    <tr>\n",
       "      <th>36</th>\n",
       "      <td>Justice League</td>\n",
       "      <td>DC</td>\n",
       "      <td>6.4</td>\n",
       "      <td>45</td>\n",
       "      <td>120</td>\n",
       "      <td>2017</td>\n",
       "      <td>300000000</td>\n",
       "      <td>93842239</td>\n",
       "      <td>229024295</td>\n",
       "      <td>Justice League</td>\n",
       "      <td>DC</td>\n",
       "      <td>657924295</td>\n",
       "      <td>1.193081</td>\n",
       "      <td>Hit</td>\n",
       "    </tr>\n",
       "    <tr>\n",
       "      <th>17</th>\n",
       "      <td>Thor:Ragnarok</td>\n",
       "      <td>Marvel</td>\n",
       "      <td>7.9</td>\n",
       "      <td>74</td>\n",
       "      <td>130</td>\n",
       "      <td>2017</td>\n",
       "      <td>180000000</td>\n",
       "      <td>122744989</td>\n",
       "      <td>315058289</td>\n",
       "      <td>Thor:Ragnarok</td>\n",
       "      <td>Marvel</td>\n",
       "      <td>853977126</td>\n",
       "      <td>3.744317</td>\n",
       "      <td>Hit</td>\n",
       "    </tr>\n",
       "    <tr>\n",
       "      <th>16</th>\n",
       "      <td>Spider-Man: Homecoming</td>\n",
       "      <td>Marvel</td>\n",
       "      <td>7.4</td>\n",
       "      <td>73</td>\n",
       "      <td>133</td>\n",
       "      <td>2017</td>\n",
       "      <td>175000000</td>\n",
       "      <td>117027503</td>\n",
       "      <td>334201140</td>\n",
       "      <td>Spider-Man: Homecoming</td>\n",
       "      <td>Marvel</td>\n",
       "      <td>880166924</td>\n",
       "      <td>4.029525</td>\n",
       "      <td>Hit</td>\n",
       "    </tr>\n",
       "    <tr>\n",
       "      <th>15</th>\n",
       "      <td>Guardians of the Galaxy Vol. 2</td>\n",
       "      <td>Marvel</td>\n",
       "      <td>7.6</td>\n",
       "      <td>67</td>\n",
       "      <td>136</td>\n",
       "      <td>2017</td>\n",
       "      <td>200000000</td>\n",
       "      <td>146510104</td>\n",
       "      <td>389813101</td>\n",
       "      <td>Guardians of the Galaxy Vol. 2</td>\n",
       "      <td>Marvel</td>\n",
       "      <td>863756051</td>\n",
       "      <td>3.318780</td>\n",
       "      <td>Hit</td>\n",
       "    </tr>\n",
       "    <tr>\n",
       "      <th>37</th>\n",
       "      <td>Aquaman</td>\n",
       "      <td>DC</td>\n",
       "      <td>7.0</td>\n",
       "      <td>55</td>\n",
       "      <td>143</td>\n",
       "      <td>2018</td>\n",
       "      <td>160000000</td>\n",
       "      <td>67873522</td>\n",
       "      <td>335061807</td>\n",
       "      <td>Aquaman</td>\n",
       "      <td>DC</td>\n",
       "      <td>1148161807</td>\n",
       "      <td>6.176011</td>\n",
       "      <td>Hit</td>\n",
       "    </tr>\n",
       "    <tr>\n",
       "      <th>19</th>\n",
       "      <td>Avengers: Infinity War</td>\n",
       "      <td>Marvel</td>\n",
       "      <td>8.5</td>\n",
       "      <td>68</td>\n",
       "      <td>149</td>\n",
       "      <td>2018</td>\n",
       "      <td>321000000</td>\n",
       "      <td>257698183</td>\n",
       "      <td>678815482</td>\n",
       "      <td>Avengers: Infinity War</td>\n",
       "      <td>Marvel</td>\n",
       "      <td>2048359754</td>\n",
       "      <td>5.381183</td>\n",
       "      <td>Hit</td>\n",
       "    </tr>\n",
       "    <tr>\n",
       "      <th>18</th>\n",
       "      <td>Black Panther</td>\n",
       "      <td>Marvel</td>\n",
       "      <td>7.3</td>\n",
       "      <td>88</td>\n",
       "      <td>134</td>\n",
       "      <td>2018</td>\n",
       "      <td>200000000</td>\n",
       "      <td>202003951</td>\n",
       "      <td>700059566</td>\n",
       "      <td>Black Panther</td>\n",
       "      <td>Marvel</td>\n",
       "      <td>1346913161</td>\n",
       "      <td>5.734566</td>\n",
       "      <td>Hit</td>\n",
       "    </tr>\n",
       "    <tr>\n",
       "      <th>20</th>\n",
       "      <td>Ant-Man and the Wasp</td>\n",
       "      <td>Marvel</td>\n",
       "      <td>7.1</td>\n",
       "      <td>70</td>\n",
       "      <td>118</td>\n",
       "      <td>2018</td>\n",
       "      <td>162000000</td>\n",
       "      <td>75812205</td>\n",
       "      <td>216648740</td>\n",
       "      <td>Ant-Man and the Wasp</td>\n",
       "      <td>Marvel</td>\n",
       "      <td>622674139</td>\n",
       "      <td>2.843668</td>\n",
       "      <td>Hit</td>\n",
       "    </tr>\n",
       "    <tr>\n",
       "      <th>21</th>\n",
       "      <td>Captain Marvel</td>\n",
       "      <td>Marvel</td>\n",
       "      <td>6.9</td>\n",
       "      <td>64</td>\n",
       "      <td>123</td>\n",
       "      <td>2019</td>\n",
       "      <td>175000000</td>\n",
       "      <td>153433423</td>\n",
       "      <td>426829839</td>\n",
       "      <td>Captain Marve</td>\n",
       "      <td>Marvel</td>\n",
       "      <td>1128274794</td>\n",
       "      <td>5.447285</td>\n",
       "      <td>Hit</td>\n",
       "    </tr>\n",
       "    <tr>\n",
       "      <th>38</th>\n",
       "      <td>Shazam!</td>\n",
       "      <td>DC</td>\n",
       "      <td>7.1</td>\n",
       "      <td>71</td>\n",
       "      <td>132</td>\n",
       "      <td>2019</td>\n",
       "      <td>100000000</td>\n",
       "      <td>53505326</td>\n",
       "      <td>140371656</td>\n",
       "      <td>Shazam!</td>\n",
       "      <td>DC</td>\n",
       "      <td>364571656</td>\n",
       "      <td>2.645717</td>\n",
       "      <td>Hit</td>\n",
       "    </tr>\n",
       "    <tr>\n",
       "      <th>39</th>\n",
       "      <td>Joker</td>\n",
       "      <td>DC</td>\n",
       "      <td>8.7</td>\n",
       "      <td>59</td>\n",
       "      <td>122</td>\n",
       "      <td>2019</td>\n",
       "      <td>55000000</td>\n",
       "      <td>96202337</td>\n",
       "      <td>333204580</td>\n",
       "      <td>Joker</td>\n",
       "      <td>DC</td>\n",
       "      <td>1060504580</td>\n",
       "      <td>18.281901</td>\n",
       "      <td>Hit</td>\n",
       "    </tr>\n",
       "    <tr>\n",
       "      <th>22</th>\n",
       "      <td>Avengers: Endgame</td>\n",
       "      <td>Marvel</td>\n",
       "      <td>8.5</td>\n",
       "      <td>78</td>\n",
       "      <td>181</td>\n",
       "      <td>2019</td>\n",
       "      <td>356000000</td>\n",
       "      <td>357115007</td>\n",
       "      <td>858373000</td>\n",
       "      <td>Avengers: Endgame</td>\n",
       "      <td>Marvel</td>\n",
       "      <td>2797800564</td>\n",
       "      <td>6.858990</td>\n",
       "      <td>Hit</td>\n",
       "    </tr>\n",
       "    <tr>\n",
       "      <th>23</th>\n",
       "      <td>Spider-Man: Far from Home</td>\n",
       "      <td>Marvel</td>\n",
       "      <td>7.6</td>\n",
       "      <td>69</td>\n",
       "      <td>129</td>\n",
       "      <td>2019</td>\n",
       "      <td>160000000</td>\n",
       "      <td>92579212</td>\n",
       "      <td>390532085</td>\n",
       "      <td>Spider-Man: Far from Home</td>\n",
       "      <td>Marvel</td>\n",
       "      <td>1131927996</td>\n",
       "      <td>6.074550</td>\n",
       "      <td>Hit</td>\n",
       "    </tr>\n",
       "  </tbody>\n",
       "</table>\n",
       "</div>"
      ],
      "text/plain": [
       "                            Original Title Company  Rate  Metascore  Minutes  \\\n",
       "Sr.No                                                                          \n",
       "24                                Catwoman      DC   3.3         27      104   \n",
       "25                           Batman Begins      DC   8.2         70      140   \n",
       "26                        Superman Returns      DC   6.0         72      154   \n",
       "27                         The Dark Knight      DC   9.0         84      152   \n",
       "2                      The Incredible Hulk  Marvel   6.7         61      112   \n",
       "1                                 Iron Man  Marvel   7.9         79      126   \n",
       "28                                Watchmen      DC   7.6         56      162   \n",
       "3                               Iron Man 2  Marvel   7.0         57      124   \n",
       "29                              Jonah Hex       DC   4.7         33       81   \n",
       "5       Captain America: The First Avenger  Marvel   6.9         66      124   \n",
       "4                                     Thor  Marvel   7.0         57      115   \n",
       "30                           Green Lantern      DC   5.5         39      114   \n",
       "31                   The Dark Knight Rises      DC   8.4         78      164   \n",
       "6                             The Avengers  Marvel   8.0         69      143   \n",
       "32                            Man of Steel      DC   7.1         55      143   \n",
       "8                     Thor: The Dark World  Marvel   6.9         54      112   \n",
       "7                           Iron Man Three  Marvel   7.2         62      130   \n",
       "10                 Guardians of the Galaxy  Marvel   8.0         76      121   \n",
       "9      Captain America: The Winter Soldier  Marvel   7.7         70      136   \n",
       "12                                 Ant-Man  Marvel   7.3         64      117   \n",
       "11                Avengers: Age of Ultron   Marvel   7.3         66      141   \n",
       "33      Batman v Superman: Dawn of Justice      DC   6.5         44      151   \n",
       "14                          Doctor Strange  Marvel   7.5         72      115   \n",
       "13              Captain America: Civil War  Marvel   7.8         75      147   \n",
       "34                          Suicide Squad       DC   6.0         40      123   \n",
       "35                            Wonder Woman      DC   7.4         76      141   \n",
       "36                          Justice League      DC   6.4         45      120   \n",
       "17                           Thor:Ragnarok  Marvel   7.9         74      130   \n",
       "16                  Spider-Man: Homecoming  Marvel   7.4         73      133   \n",
       "15          Guardians of the Galaxy Vol. 2  Marvel   7.6         67      136   \n",
       "37                                 Aquaman      DC   7.0         55      143   \n",
       "19                  Avengers: Infinity War  Marvel   8.5         68      149   \n",
       "18                           Black Panther  Marvel   7.3         88      134   \n",
       "20                    Ant-Man and the Wasp  Marvel   7.1         70      118   \n",
       "21                          Captain Marvel  Marvel   6.9         64      123   \n",
       "38                                 Shazam!      DC   7.1         71      132   \n",
       "39                                   Joker      DC   8.7         59      122   \n",
       "22                       Avengers: Endgame  Marvel   8.5         78      181   \n",
       "23               Spider-Man: Far from Home  Marvel   7.6         69      129   \n",
       "\n",
       "       Release     Budget  Opening Weekend USA  Gross USA  \\\n",
       "Sr.No                                                       \n",
       "24        2004  100000000             16728411   40202379   \n",
       "25        2005  150000000             48745440  206852432   \n",
       "26        2006  270000000             52535096  200081192   \n",
       "27        2008  185000000            158411483  535234033   \n",
       "2         2008  150000000             55414050  134806913   \n",
       "1         2008  140000000             98618668  318604126   \n",
       "28        2009  130000000             55214334  107509799   \n",
       "3         2010  200000000            128122480  312433331   \n",
       "29        2010   47000000              5379365   10547117   \n",
       "5         2011  140000000             65058524  176654505   \n",
       "4         2011  150000000             65723338  181030624   \n",
       "30        2011  200000000             53174303  116601172   \n",
       "31        2012  250000000            160887295  448139099   \n",
       "6         2012  220000000            207438708  623357910   \n",
       "32        2013  225000000            116619362  291045518   \n",
       "8         2013  170000000             85737841  206362140   \n",
       "7         2013  200000000            174144585  409013994   \n",
       "10        2014  170000000             94320883  333176600   \n",
       "9         2014  170000000             95023721  259766572   \n",
       "12        2015  130000000             57225526  180202163   \n",
       "11        2015  250000000            191271109  459005868   \n",
       "33        2016  250000000            166007347  330360194   \n",
       "14        2016  165000000             85058311  232641920   \n",
       "13        2016  250000000            179139142  408084349   \n",
       "34        2016  175000000            133682248  325100054   \n",
       "35        2017  149000000            103251471  412563408   \n",
       "36        2017  300000000             93842239  229024295   \n",
       "17        2017  180000000            122744989  315058289   \n",
       "16        2017  175000000            117027503  334201140   \n",
       "15        2017  200000000            146510104  389813101   \n",
       "37        2018  160000000             67873522  335061807   \n",
       "19        2018  321000000            257698183  678815482   \n",
       "18        2018  200000000            202003951  700059566   \n",
       "20        2018  162000000             75812205  216648740   \n",
       "21        2019  175000000            153433423  426829839   \n",
       "38        2019  100000000             53505326  140371656   \n",
       "39        2019   55000000             96202337  333204580   \n",
       "22        2019  356000000            357115007  858373000   \n",
       "23        2019  160000000             92579212  390532085   \n",
       "\n",
       "                           Original Title2 Company3  Gross Worldwide  \\\n",
       "Sr.No                                                                  \n",
       "24                                Catwoman       DC         82102379   \n",
       "25                           Batman Begins       DC        373413297   \n",
       "26                        Superman Returns       DC        391081192   \n",
       "27                         The Dark Knight       DC       1004934033   \n",
       "2                      The Incredible Hulk   Marvel        263427551   \n",
       "1                                 Iron Man   Marvel        585366247   \n",
       "28                                Watchmen       DC        185258983   \n",
       "3                               Iron Man 2   Marvel        623933331   \n",
       "29                              Jonah Hex        DC         10903312   \n",
       "5       Captain America: The First Avenger   Marvel        370569774   \n",
       "4                                     Thor   Marvel        449326618   \n",
       "30                           Green Lantern       DC        219851172   \n",
       "31                   The Dark Knight Rises       DC       1081041287   \n",
       "6                             The Avengers   Marvel       1518812988   \n",
       "32                            Man of Steel       DC        668045518   \n",
       "8                     Thor: The Dark World   Marvel        644783140   \n",
       "7                           Iron Man Three   Marvel       1214811252   \n",
       "10                 Guardians of the Galaxy   Marvel        772776600   \n",
       "9      Captain America: The Winter Soldier   Marvel        714421503   \n",
       "12                                 Ant-Man   Marvel        519311965   \n",
       "11                Avengers: Age of Ultron    Marvel       1402805868   \n",
       "33      Batman v Superman: Dawn of Justice       DC        873634919   \n",
       "14                          Doctor Strange   Marvel        677718395   \n",
       "13              Captain America: Civil War   Marvel       1153296293   \n",
       "34                          Suicide Squad        DC        746846894   \n",
       "35                            Wonder Woman       DC        821847012   \n",
       "36                          Justice League       DC        657924295   \n",
       "17                           Thor:Ragnarok   Marvel        853977126   \n",
       "16                  Spider-Man: Homecoming   Marvel        880166924   \n",
       "15          Guardians of the Galaxy Vol. 2   Marvel        863756051   \n",
       "37                                 Aquaman       DC       1148161807   \n",
       "19                  Avengers: Infinity War   Marvel       2048359754   \n",
       "18                           Black Panther   Marvel       1346913161   \n",
       "20                    Ant-Man and the Wasp   Marvel        622674139   \n",
       "21                           Captain Marve   Marvel       1128274794   \n",
       "38                                 Shazam!       DC        364571656   \n",
       "39                                   Joker       DC       1060504580   \n",
       "22                       Avengers: Endgame   Marvel       2797800564   \n",
       "23               Spider-Man: Far from Home   Marvel       1131927996   \n",
       "\n",
       "       Percentage Return Hit/Flop  \n",
       "Sr.No                              \n",
       "24             -0.178976     Flop  \n",
       "25              1.489422      Hit  \n",
       "26              0.448449      Hit  \n",
       "27              4.432076      Hit  \n",
       "2               0.756184      Hit  \n",
       "1               3.181187      Hit  \n",
       "28              0.425069      Hit  \n",
       "3               2.119667      Hit  \n",
       "29             -0.768015     Flop  \n",
       "5               1.646927      Hit  \n",
       "4               1.995511      Hit  \n",
       "30              0.099256      Hit  \n",
       "31              3.324165      Hit  \n",
       "6               5.903695      Hit  \n",
       "32              1.969091      Hit  \n",
       "8               2.792842      Hit  \n",
       "7               5.074056      Hit  \n",
       "10              3.545745      Hit  \n",
       "9               3.202479      Hit  \n",
       "12              2.994707      Hit  \n",
       "11              4.611223      Hit  \n",
       "33              2.494540      Hit  \n",
       "14              3.107384      Hit  \n",
       "13              3.613185      Hit  \n",
       "34              3.267697      Hit  \n",
       "35              4.515752      Hit  \n",
       "36              1.193081      Hit  \n",
       "17              3.744317      Hit  \n",
       "16              4.029525      Hit  \n",
       "15              3.318780      Hit  \n",
       "37              6.176011      Hit  \n",
       "19              5.381183      Hit  \n",
       "18              5.734566      Hit  \n",
       "20              2.843668      Hit  \n",
       "21              5.447285      Hit  \n",
       "38              2.645717      Hit  \n",
       "39             18.281901      Hit  \n",
       "22              6.858990      Hit  \n",
       "23              6.074550      Hit  "
      ]
     },
     "execution_count": 150,
     "metadata": {},
     "output_type": "execute_result"
    }
   ],
   "source": [
    "df1.sort_values(by='Release')"
   ]
  },
  {
   "cell_type": "code",
   "execution_count": 151,
   "metadata": {},
   "outputs": [],
   "source": [
    "df1.drop(['Original Title2','Company3','Percentage Return','Hit/Flop'],axis = 1,inplace=True)"
   ]
  },
  {
   "cell_type": "code",
   "execution_count": 152,
   "metadata": {},
   "outputs": [],
   "source": [
    "#Taking 20% weightage to IMDB & 80% weightage to Metascore"
   ]
  },
  {
   "cell_type": "code",
   "execution_count": 153,
   "metadata": {},
   "outputs": [],
   "source": [
    "df1['Rating'] = (0.2*df1['Rate'])+(0.8*(df1['Metascore']/100))"
   ]
  },
  {
   "cell_type": "code",
   "execution_count": 154,
   "metadata": {},
   "outputs": [
    {
     "data": {
      "text/html": [
       "<div>\n",
       "<style scoped>\n",
       "    .dataframe tbody tr th:only-of-type {\n",
       "        vertical-align: middle;\n",
       "    }\n",
       "\n",
       "    .dataframe tbody tr th {\n",
       "        vertical-align: top;\n",
       "    }\n",
       "\n",
       "    .dataframe thead th {\n",
       "        text-align: right;\n",
       "    }\n",
       "</style>\n",
       "<table border=\"1\" class=\"dataframe\">\n",
       "  <thead>\n",
       "    <tr style=\"text-align: right;\">\n",
       "      <th></th>\n",
       "      <th>Original Title</th>\n",
       "      <th>Company</th>\n",
       "      <th>Rate</th>\n",
       "      <th>Metascore</th>\n",
       "      <th>Minutes</th>\n",
       "      <th>Release</th>\n",
       "      <th>Budget</th>\n",
       "      <th>Opening Weekend USA</th>\n",
       "      <th>Gross USA</th>\n",
       "      <th>Gross Worldwide</th>\n",
       "      <th>Rating</th>\n",
       "    </tr>\n",
       "    <tr>\n",
       "      <th>Sr.No</th>\n",
       "      <th></th>\n",
       "      <th></th>\n",
       "      <th></th>\n",
       "      <th></th>\n",
       "      <th></th>\n",
       "      <th></th>\n",
       "      <th></th>\n",
       "      <th></th>\n",
       "      <th></th>\n",
       "      <th></th>\n",
       "      <th></th>\n",
       "    </tr>\n",
       "  </thead>\n",
       "  <tbody>\n",
       "    <tr>\n",
       "      <th>24</th>\n",
       "      <td>Catwoman</td>\n",
       "      <td>DC</td>\n",
       "      <td>3.3</td>\n",
       "      <td>27</td>\n",
       "      <td>104</td>\n",
       "      <td>2004</td>\n",
       "      <td>100000000</td>\n",
       "      <td>16728411</td>\n",
       "      <td>40202379</td>\n",
       "      <td>82102379</td>\n",
       "      <td>0.876</td>\n",
       "    </tr>\n",
       "    <tr>\n",
       "      <th>25</th>\n",
       "      <td>Batman Begins</td>\n",
       "      <td>DC</td>\n",
       "      <td>8.2</td>\n",
       "      <td>70</td>\n",
       "      <td>140</td>\n",
       "      <td>2005</td>\n",
       "      <td>150000000</td>\n",
       "      <td>48745440</td>\n",
       "      <td>206852432</td>\n",
       "      <td>373413297</td>\n",
       "      <td>2.200</td>\n",
       "    </tr>\n",
       "    <tr>\n",
       "      <th>26</th>\n",
       "      <td>Superman Returns</td>\n",
       "      <td>DC</td>\n",
       "      <td>6.0</td>\n",
       "      <td>72</td>\n",
       "      <td>154</td>\n",
       "      <td>2006</td>\n",
       "      <td>270000000</td>\n",
       "      <td>52535096</td>\n",
       "      <td>200081192</td>\n",
       "      <td>391081192</td>\n",
       "      <td>1.776</td>\n",
       "    </tr>\n",
       "    <tr>\n",
       "      <th>27</th>\n",
       "      <td>The Dark Knight</td>\n",
       "      <td>DC</td>\n",
       "      <td>9.0</td>\n",
       "      <td>84</td>\n",
       "      <td>152</td>\n",
       "      <td>2008</td>\n",
       "      <td>185000000</td>\n",
       "      <td>158411483</td>\n",
       "      <td>535234033</td>\n",
       "      <td>1004934033</td>\n",
       "      <td>2.472</td>\n",
       "    </tr>\n",
       "    <tr>\n",
       "      <th>2</th>\n",
       "      <td>The Incredible Hulk</td>\n",
       "      <td>Marvel</td>\n",
       "      <td>6.7</td>\n",
       "      <td>61</td>\n",
       "      <td>112</td>\n",
       "      <td>2008</td>\n",
       "      <td>150000000</td>\n",
       "      <td>55414050</td>\n",
       "      <td>134806913</td>\n",
       "      <td>263427551</td>\n",
       "      <td>1.828</td>\n",
       "    </tr>\n",
       "  </tbody>\n",
       "</table>\n",
       "</div>"
      ],
      "text/plain": [
       "            Original Title Company  Rate  Metascore  Minutes  Release  \\\n",
       "Sr.No                                                                   \n",
       "24                Catwoman      DC   3.3         27      104     2004   \n",
       "25           Batman Begins      DC   8.2         70      140     2005   \n",
       "26        Superman Returns      DC   6.0         72      154     2006   \n",
       "27         The Dark Knight      DC   9.0         84      152     2008   \n",
       "2      The Incredible Hulk  Marvel   6.7         61      112     2008   \n",
       "\n",
       "          Budget  Opening Weekend USA  Gross USA  Gross Worldwide  Rating  \n",
       "Sr.No                                                                      \n",
       "24     100000000             16728411   40202379         82102379   0.876  \n",
       "25     150000000             48745440  206852432        373413297   2.200  \n",
       "26     270000000             52535096  200081192        391081192   1.776  \n",
       "27     185000000            158411483  535234033       1004934033   2.472  \n",
       "2      150000000             55414050  134806913        263427551   1.828  "
      ]
     },
     "execution_count": 154,
     "metadata": {},
     "output_type": "execute_result"
    }
   ],
   "source": [
    "df1.head()"
   ]
  },
  {
   "cell_type": "code",
   "execution_count": 155,
   "metadata": {},
   "outputs": [],
   "source": [
    "df1.drop(['Rate','Metascore'],axis=1,inplace = True)"
   ]
  },
  {
   "cell_type": "code",
   "execution_count": 156,
   "metadata": {},
   "outputs": [
    {
     "data": {
      "text/html": [
       "<div>\n",
       "<style scoped>\n",
       "    .dataframe tbody tr th:only-of-type {\n",
       "        vertical-align: middle;\n",
       "    }\n",
       "\n",
       "    .dataframe tbody tr th {\n",
       "        vertical-align: top;\n",
       "    }\n",
       "\n",
       "    .dataframe thead th {\n",
       "        text-align: right;\n",
       "    }\n",
       "</style>\n",
       "<table border=\"1\" class=\"dataframe\">\n",
       "  <thead>\n",
       "    <tr style=\"text-align: right;\">\n",
       "      <th></th>\n",
       "      <th>Original Title</th>\n",
       "      <th>Company</th>\n",
       "      <th>Minutes</th>\n",
       "      <th>Release</th>\n",
       "      <th>Budget</th>\n",
       "      <th>Opening Weekend USA</th>\n",
       "      <th>Gross USA</th>\n",
       "      <th>Gross Worldwide</th>\n",
       "      <th>Rating</th>\n",
       "    </tr>\n",
       "    <tr>\n",
       "      <th>Sr.No</th>\n",
       "      <th></th>\n",
       "      <th></th>\n",
       "      <th></th>\n",
       "      <th></th>\n",
       "      <th></th>\n",
       "      <th></th>\n",
       "      <th></th>\n",
       "      <th></th>\n",
       "      <th></th>\n",
       "    </tr>\n",
       "  </thead>\n",
       "  <tbody>\n",
       "    <tr>\n",
       "      <th>24</th>\n",
       "      <td>Catwoman</td>\n",
       "      <td>DC</td>\n",
       "      <td>104</td>\n",
       "      <td>2004</td>\n",
       "      <td>100000000</td>\n",
       "      <td>16728411</td>\n",
       "      <td>40202379</td>\n",
       "      <td>82102379</td>\n",
       "      <td>0.876</td>\n",
       "    </tr>\n",
       "    <tr>\n",
       "      <th>25</th>\n",
       "      <td>Batman Begins</td>\n",
       "      <td>DC</td>\n",
       "      <td>140</td>\n",
       "      <td>2005</td>\n",
       "      <td>150000000</td>\n",
       "      <td>48745440</td>\n",
       "      <td>206852432</td>\n",
       "      <td>373413297</td>\n",
       "      <td>2.200</td>\n",
       "    </tr>\n",
       "    <tr>\n",
       "      <th>26</th>\n",
       "      <td>Superman Returns</td>\n",
       "      <td>DC</td>\n",
       "      <td>154</td>\n",
       "      <td>2006</td>\n",
       "      <td>270000000</td>\n",
       "      <td>52535096</td>\n",
       "      <td>200081192</td>\n",
       "      <td>391081192</td>\n",
       "      <td>1.776</td>\n",
       "    </tr>\n",
       "    <tr>\n",
       "      <th>27</th>\n",
       "      <td>The Dark Knight</td>\n",
       "      <td>DC</td>\n",
       "      <td>152</td>\n",
       "      <td>2008</td>\n",
       "      <td>185000000</td>\n",
       "      <td>158411483</td>\n",
       "      <td>535234033</td>\n",
       "      <td>1004934033</td>\n",
       "      <td>2.472</td>\n",
       "    </tr>\n",
       "    <tr>\n",
       "      <th>2</th>\n",
       "      <td>The Incredible Hulk</td>\n",
       "      <td>Marvel</td>\n",
       "      <td>112</td>\n",
       "      <td>2008</td>\n",
       "      <td>150000000</td>\n",
       "      <td>55414050</td>\n",
       "      <td>134806913</td>\n",
       "      <td>263427551</td>\n",
       "      <td>1.828</td>\n",
       "    </tr>\n",
       "  </tbody>\n",
       "</table>\n",
       "</div>"
      ],
      "text/plain": [
       "            Original Title Company  Minutes  Release     Budget  \\\n",
       "Sr.No                                                             \n",
       "24                Catwoman      DC      104     2004  100000000   \n",
       "25           Batman Begins      DC      140     2005  150000000   \n",
       "26        Superman Returns      DC      154     2006  270000000   \n",
       "27         The Dark Knight      DC      152     2008  185000000   \n",
       "2      The Incredible Hulk  Marvel      112     2008  150000000   \n",
       "\n",
       "       Opening Weekend USA  Gross USA  Gross Worldwide  Rating  \n",
       "Sr.No                                                           \n",
       "24                16728411   40202379         82102379   0.876  \n",
       "25                48745440  206852432        373413297   2.200  \n",
       "26                52535096  200081192        391081192   1.776  \n",
       "27               158411483  535234033       1004934033   2.472  \n",
       "2                 55414050  134806913        263427551   1.828  "
      ]
     },
     "execution_count": 156,
     "metadata": {},
     "output_type": "execute_result"
    }
   ],
   "source": [
    "df1.head()"
   ]
  },
  {
   "cell_type": "code",
   "execution_count": 157,
   "metadata": {},
   "outputs": [
    {
     "data": {
      "text/html": [
       "<div>\n",
       "<style scoped>\n",
       "    .dataframe tbody tr th:only-of-type {\n",
       "        vertical-align: middle;\n",
       "    }\n",
       "\n",
       "    .dataframe tbody tr th {\n",
       "        vertical-align: top;\n",
       "    }\n",
       "\n",
       "    .dataframe thead th {\n",
       "        text-align: right;\n",
       "    }\n",
       "</style>\n",
       "<table border=\"1\" class=\"dataframe\">\n",
       "  <thead>\n",
       "    <tr style=\"text-align: right;\">\n",
       "      <th></th>\n",
       "      <th>Original Title</th>\n",
       "      <th>Company</th>\n",
       "      <th>Minutes</th>\n",
       "      <th>Release</th>\n",
       "      <th>Budget</th>\n",
       "      <th>Opening Weekend USA</th>\n",
       "      <th>Gross USA</th>\n",
       "      <th>Gross Worldwide</th>\n",
       "      <th>Rating</th>\n",
       "    </tr>\n",
       "    <tr>\n",
       "      <th>Sr.No</th>\n",
       "      <th></th>\n",
       "      <th></th>\n",
       "      <th></th>\n",
       "      <th></th>\n",
       "      <th></th>\n",
       "      <th></th>\n",
       "      <th></th>\n",
       "      <th></th>\n",
       "      <th></th>\n",
       "    </tr>\n",
       "  </thead>\n",
       "  <tbody>\n",
       "    <tr>\n",
       "      <th>27</th>\n",
       "      <td>The Dark Knight</td>\n",
       "      <td>DC</td>\n",
       "      <td>152</td>\n",
       "      <td>2008</td>\n",
       "      <td>185000000</td>\n",
       "      <td>158411483</td>\n",
       "      <td>535234033</td>\n",
       "      <td>1004934033</td>\n",
       "      <td>2.472</td>\n",
       "    </tr>\n",
       "    <tr>\n",
       "      <th>22</th>\n",
       "      <td>Avengers: Endgame</td>\n",
       "      <td>Marvel</td>\n",
       "      <td>181</td>\n",
       "      <td>2019</td>\n",
       "      <td>356000000</td>\n",
       "      <td>357115007</td>\n",
       "      <td>858373000</td>\n",
       "      <td>2797800564</td>\n",
       "      <td>2.324</td>\n",
       "    </tr>\n",
       "    <tr>\n",
       "      <th>31</th>\n",
       "      <td>The Dark Knight Rises</td>\n",
       "      <td>DC</td>\n",
       "      <td>164</td>\n",
       "      <td>2012</td>\n",
       "      <td>250000000</td>\n",
       "      <td>160887295</td>\n",
       "      <td>448139099</td>\n",
       "      <td>1081041287</td>\n",
       "      <td>2.304</td>\n",
       "    </tr>\n",
       "    <tr>\n",
       "      <th>19</th>\n",
       "      <td>Avengers: Infinity War</td>\n",
       "      <td>Marvel</td>\n",
       "      <td>149</td>\n",
       "      <td>2018</td>\n",
       "      <td>321000000</td>\n",
       "      <td>257698183</td>\n",
       "      <td>678815482</td>\n",
       "      <td>2048359754</td>\n",
       "      <td>2.244</td>\n",
       "    </tr>\n",
       "    <tr>\n",
       "      <th>1</th>\n",
       "      <td>Iron Man</td>\n",
       "      <td>Marvel</td>\n",
       "      <td>126</td>\n",
       "      <td>2008</td>\n",
       "      <td>140000000</td>\n",
       "      <td>98618668</td>\n",
       "      <td>318604126</td>\n",
       "      <td>585366247</td>\n",
       "      <td>2.212</td>\n",
       "    </tr>\n",
       "    <tr>\n",
       "      <th>39</th>\n",
       "      <td>Joker</td>\n",
       "      <td>DC</td>\n",
       "      <td>122</td>\n",
       "      <td>2019</td>\n",
       "      <td>55000000</td>\n",
       "      <td>96202337</td>\n",
       "      <td>333204580</td>\n",
       "      <td>1060504580</td>\n",
       "      <td>2.212</td>\n",
       "    </tr>\n",
       "    <tr>\n",
       "      <th>10</th>\n",
       "      <td>Guardians of the Galaxy</td>\n",
       "      <td>Marvel</td>\n",
       "      <td>121</td>\n",
       "      <td>2014</td>\n",
       "      <td>170000000</td>\n",
       "      <td>94320883</td>\n",
       "      <td>333176600</td>\n",
       "      <td>772776600</td>\n",
       "      <td>2.208</td>\n",
       "    </tr>\n",
       "    <tr>\n",
       "      <th>25</th>\n",
       "      <td>Batman Begins</td>\n",
       "      <td>DC</td>\n",
       "      <td>140</td>\n",
       "      <td>2005</td>\n",
       "      <td>150000000</td>\n",
       "      <td>48745440</td>\n",
       "      <td>206852432</td>\n",
       "      <td>373413297</td>\n",
       "      <td>2.200</td>\n",
       "    </tr>\n",
       "    <tr>\n",
       "      <th>17</th>\n",
       "      <td>Thor:Ragnarok</td>\n",
       "      <td>Marvel</td>\n",
       "      <td>130</td>\n",
       "      <td>2017</td>\n",
       "      <td>180000000</td>\n",
       "      <td>122744989</td>\n",
       "      <td>315058289</td>\n",
       "      <td>853977126</td>\n",
       "      <td>2.172</td>\n",
       "    </tr>\n",
       "    <tr>\n",
       "      <th>18</th>\n",
       "      <td>Black Panther</td>\n",
       "      <td>Marvel</td>\n",
       "      <td>134</td>\n",
       "      <td>2018</td>\n",
       "      <td>200000000</td>\n",
       "      <td>202003951</td>\n",
       "      <td>700059566</td>\n",
       "      <td>1346913161</td>\n",
       "      <td>2.164</td>\n",
       "    </tr>\n",
       "    <tr>\n",
       "      <th>13</th>\n",
       "      <td>Captain America: Civil War</td>\n",
       "      <td>Marvel</td>\n",
       "      <td>147</td>\n",
       "      <td>2016</td>\n",
       "      <td>250000000</td>\n",
       "      <td>179139142</td>\n",
       "      <td>408084349</td>\n",
       "      <td>1153296293</td>\n",
       "      <td>2.160</td>\n",
       "    </tr>\n",
       "    <tr>\n",
       "      <th>6</th>\n",
       "      <td>The Avengers</td>\n",
       "      <td>Marvel</td>\n",
       "      <td>143</td>\n",
       "      <td>2012</td>\n",
       "      <td>220000000</td>\n",
       "      <td>207438708</td>\n",
       "      <td>623357910</td>\n",
       "      <td>1518812988</td>\n",
       "      <td>2.152</td>\n",
       "    </tr>\n",
       "    <tr>\n",
       "      <th>9</th>\n",
       "      <td>Captain America: The Winter Soldier</td>\n",
       "      <td>Marvel</td>\n",
       "      <td>136</td>\n",
       "      <td>2014</td>\n",
       "      <td>170000000</td>\n",
       "      <td>95023721</td>\n",
       "      <td>259766572</td>\n",
       "      <td>714421503</td>\n",
       "      <td>2.100</td>\n",
       "    </tr>\n",
       "    <tr>\n",
       "      <th>35</th>\n",
       "      <td>Wonder Woman</td>\n",
       "      <td>DC</td>\n",
       "      <td>141</td>\n",
       "      <td>2017</td>\n",
       "      <td>149000000</td>\n",
       "      <td>103251471</td>\n",
       "      <td>412563408</td>\n",
       "      <td>821847012</td>\n",
       "      <td>2.088</td>\n",
       "    </tr>\n",
       "    <tr>\n",
       "      <th>14</th>\n",
       "      <td>Doctor Strange</td>\n",
       "      <td>Marvel</td>\n",
       "      <td>115</td>\n",
       "      <td>2016</td>\n",
       "      <td>165000000</td>\n",
       "      <td>85058311</td>\n",
       "      <td>232641920</td>\n",
       "      <td>677718395</td>\n",
       "      <td>2.076</td>\n",
       "    </tr>\n",
       "    <tr>\n",
       "      <th>23</th>\n",
       "      <td>Spider-Man: Far from Home</td>\n",
       "      <td>Marvel</td>\n",
       "      <td>129</td>\n",
       "      <td>2019</td>\n",
       "      <td>160000000</td>\n",
       "      <td>92579212</td>\n",
       "      <td>390532085</td>\n",
       "      <td>1131927996</td>\n",
       "      <td>2.072</td>\n",
       "    </tr>\n",
       "    <tr>\n",
       "      <th>16</th>\n",
       "      <td>Spider-Man: Homecoming</td>\n",
       "      <td>Marvel</td>\n",
       "      <td>133</td>\n",
       "      <td>2017</td>\n",
       "      <td>175000000</td>\n",
       "      <td>117027503</td>\n",
       "      <td>334201140</td>\n",
       "      <td>880166924</td>\n",
       "      <td>2.064</td>\n",
       "    </tr>\n",
       "    <tr>\n",
       "      <th>15</th>\n",
       "      <td>Guardians of the Galaxy Vol. 2</td>\n",
       "      <td>Marvel</td>\n",
       "      <td>136</td>\n",
       "      <td>2017</td>\n",
       "      <td>200000000</td>\n",
       "      <td>146510104</td>\n",
       "      <td>389813101</td>\n",
       "      <td>863756051</td>\n",
       "      <td>2.056</td>\n",
       "    </tr>\n",
       "    <tr>\n",
       "      <th>11</th>\n",
       "      <td>Avengers: Age of Ultron</td>\n",
       "      <td>Marvel</td>\n",
       "      <td>141</td>\n",
       "      <td>2015</td>\n",
       "      <td>250000000</td>\n",
       "      <td>191271109</td>\n",
       "      <td>459005868</td>\n",
       "      <td>1402805868</td>\n",
       "      <td>1.988</td>\n",
       "    </tr>\n",
       "    <tr>\n",
       "      <th>38</th>\n",
       "      <td>Shazam!</td>\n",
       "      <td>DC</td>\n",
       "      <td>132</td>\n",
       "      <td>2019</td>\n",
       "      <td>100000000</td>\n",
       "      <td>53505326</td>\n",
       "      <td>140371656</td>\n",
       "      <td>364571656</td>\n",
       "      <td>1.988</td>\n",
       "    </tr>\n",
       "    <tr>\n",
       "      <th>20</th>\n",
       "      <td>Ant-Man and the Wasp</td>\n",
       "      <td>Marvel</td>\n",
       "      <td>118</td>\n",
       "      <td>2018</td>\n",
       "      <td>162000000</td>\n",
       "      <td>75812205</td>\n",
       "      <td>216648740</td>\n",
       "      <td>622674139</td>\n",
       "      <td>1.980</td>\n",
       "    </tr>\n",
       "    <tr>\n",
       "      <th>12</th>\n",
       "      <td>Ant-Man</td>\n",
       "      <td>Marvel</td>\n",
       "      <td>117</td>\n",
       "      <td>2015</td>\n",
       "      <td>130000000</td>\n",
       "      <td>57225526</td>\n",
       "      <td>180202163</td>\n",
       "      <td>519311965</td>\n",
       "      <td>1.972</td>\n",
       "    </tr>\n",
       "    <tr>\n",
       "      <th>28</th>\n",
       "      <td>Watchmen</td>\n",
       "      <td>DC</td>\n",
       "      <td>162</td>\n",
       "      <td>2009</td>\n",
       "      <td>130000000</td>\n",
       "      <td>55214334</td>\n",
       "      <td>107509799</td>\n",
       "      <td>185258983</td>\n",
       "      <td>1.968</td>\n",
       "    </tr>\n",
       "    <tr>\n",
       "      <th>7</th>\n",
       "      <td>Iron Man Three</td>\n",
       "      <td>Marvel</td>\n",
       "      <td>130</td>\n",
       "      <td>2013</td>\n",
       "      <td>200000000</td>\n",
       "      <td>174144585</td>\n",
       "      <td>409013994</td>\n",
       "      <td>1214811252</td>\n",
       "      <td>1.936</td>\n",
       "    </tr>\n",
       "    <tr>\n",
       "      <th>5</th>\n",
       "      <td>Captain America: The First Avenger</td>\n",
       "      <td>Marvel</td>\n",
       "      <td>124</td>\n",
       "      <td>2011</td>\n",
       "      <td>140000000</td>\n",
       "      <td>65058524</td>\n",
       "      <td>176654505</td>\n",
       "      <td>370569774</td>\n",
       "      <td>1.908</td>\n",
       "    </tr>\n",
       "    <tr>\n",
       "      <th>21</th>\n",
       "      <td>Captain Marvel</td>\n",
       "      <td>Marvel</td>\n",
       "      <td>123</td>\n",
       "      <td>2019</td>\n",
       "      <td>175000000</td>\n",
       "      <td>153433423</td>\n",
       "      <td>426829839</td>\n",
       "      <td>1128274794</td>\n",
       "      <td>1.892</td>\n",
       "    </tr>\n",
       "    <tr>\n",
       "      <th>32</th>\n",
       "      <td>Man of Steel</td>\n",
       "      <td>DC</td>\n",
       "      <td>143</td>\n",
       "      <td>2013</td>\n",
       "      <td>225000000</td>\n",
       "      <td>116619362</td>\n",
       "      <td>291045518</td>\n",
       "      <td>668045518</td>\n",
       "      <td>1.860</td>\n",
       "    </tr>\n",
       "    <tr>\n",
       "      <th>3</th>\n",
       "      <td>Iron Man 2</td>\n",
       "      <td>Marvel</td>\n",
       "      <td>124</td>\n",
       "      <td>2010</td>\n",
       "      <td>200000000</td>\n",
       "      <td>128122480</td>\n",
       "      <td>312433331</td>\n",
       "      <td>623933331</td>\n",
       "      <td>1.856</td>\n",
       "    </tr>\n",
       "    <tr>\n",
       "      <th>4</th>\n",
       "      <td>Thor</td>\n",
       "      <td>Marvel</td>\n",
       "      <td>115</td>\n",
       "      <td>2011</td>\n",
       "      <td>150000000</td>\n",
       "      <td>65723338</td>\n",
       "      <td>181030624</td>\n",
       "      <td>449326618</td>\n",
       "      <td>1.856</td>\n",
       "    </tr>\n",
       "    <tr>\n",
       "      <th>37</th>\n",
       "      <td>Aquaman</td>\n",
       "      <td>DC</td>\n",
       "      <td>143</td>\n",
       "      <td>2018</td>\n",
       "      <td>160000000</td>\n",
       "      <td>67873522</td>\n",
       "      <td>335061807</td>\n",
       "      <td>1148161807</td>\n",
       "      <td>1.840</td>\n",
       "    </tr>\n",
       "    <tr>\n",
       "      <th>2</th>\n",
       "      <td>The Incredible Hulk</td>\n",
       "      <td>Marvel</td>\n",
       "      <td>112</td>\n",
       "      <td>2008</td>\n",
       "      <td>150000000</td>\n",
       "      <td>55414050</td>\n",
       "      <td>134806913</td>\n",
       "      <td>263427551</td>\n",
       "      <td>1.828</td>\n",
       "    </tr>\n",
       "    <tr>\n",
       "      <th>8</th>\n",
       "      <td>Thor: The Dark World</td>\n",
       "      <td>Marvel</td>\n",
       "      <td>112</td>\n",
       "      <td>2013</td>\n",
       "      <td>170000000</td>\n",
       "      <td>85737841</td>\n",
       "      <td>206362140</td>\n",
       "      <td>644783140</td>\n",
       "      <td>1.812</td>\n",
       "    </tr>\n",
       "    <tr>\n",
       "      <th>26</th>\n",
       "      <td>Superman Returns</td>\n",
       "      <td>DC</td>\n",
       "      <td>154</td>\n",
       "      <td>2006</td>\n",
       "      <td>270000000</td>\n",
       "      <td>52535096</td>\n",
       "      <td>200081192</td>\n",
       "      <td>391081192</td>\n",
       "      <td>1.776</td>\n",
       "    </tr>\n",
       "    <tr>\n",
       "      <th>33</th>\n",
       "      <td>Batman v Superman: Dawn of Justice</td>\n",
       "      <td>DC</td>\n",
       "      <td>151</td>\n",
       "      <td>2016</td>\n",
       "      <td>250000000</td>\n",
       "      <td>166007347</td>\n",
       "      <td>330360194</td>\n",
       "      <td>873634919</td>\n",
       "      <td>1.652</td>\n",
       "    </tr>\n",
       "    <tr>\n",
       "      <th>36</th>\n",
       "      <td>Justice League</td>\n",
       "      <td>DC</td>\n",
       "      <td>120</td>\n",
       "      <td>2017</td>\n",
       "      <td>300000000</td>\n",
       "      <td>93842239</td>\n",
       "      <td>229024295</td>\n",
       "      <td>657924295</td>\n",
       "      <td>1.640</td>\n",
       "    </tr>\n",
       "    <tr>\n",
       "      <th>34</th>\n",
       "      <td>Suicide Squad</td>\n",
       "      <td>DC</td>\n",
       "      <td>123</td>\n",
       "      <td>2016</td>\n",
       "      <td>175000000</td>\n",
       "      <td>133682248</td>\n",
       "      <td>325100054</td>\n",
       "      <td>746846894</td>\n",
       "      <td>1.520</td>\n",
       "    </tr>\n",
       "    <tr>\n",
       "      <th>30</th>\n",
       "      <td>Green Lantern</td>\n",
       "      <td>DC</td>\n",
       "      <td>114</td>\n",
       "      <td>2011</td>\n",
       "      <td>200000000</td>\n",
       "      <td>53174303</td>\n",
       "      <td>116601172</td>\n",
       "      <td>219851172</td>\n",
       "      <td>1.412</td>\n",
       "    </tr>\n",
       "    <tr>\n",
       "      <th>29</th>\n",
       "      <td>Jonah Hex</td>\n",
       "      <td>DC</td>\n",
       "      <td>81</td>\n",
       "      <td>2010</td>\n",
       "      <td>47000000</td>\n",
       "      <td>5379365</td>\n",
       "      <td>10547117</td>\n",
       "      <td>10903312</td>\n",
       "      <td>1.204</td>\n",
       "    </tr>\n",
       "    <tr>\n",
       "      <th>24</th>\n",
       "      <td>Catwoman</td>\n",
       "      <td>DC</td>\n",
       "      <td>104</td>\n",
       "      <td>2004</td>\n",
       "      <td>100000000</td>\n",
       "      <td>16728411</td>\n",
       "      <td>40202379</td>\n",
       "      <td>82102379</td>\n",
       "      <td>0.876</td>\n",
       "    </tr>\n",
       "  </tbody>\n",
       "</table>\n",
       "</div>"
      ],
      "text/plain": [
       "                            Original Title Company  Minutes  Release  \\\n",
       "Sr.No                                                                  \n",
       "27                         The Dark Knight      DC      152     2008   \n",
       "22                       Avengers: Endgame  Marvel      181     2019   \n",
       "31                   The Dark Knight Rises      DC      164     2012   \n",
       "19                  Avengers: Infinity War  Marvel      149     2018   \n",
       "1                                 Iron Man  Marvel      126     2008   \n",
       "39                                   Joker      DC      122     2019   \n",
       "10                 Guardians of the Galaxy  Marvel      121     2014   \n",
       "25                           Batman Begins      DC      140     2005   \n",
       "17                           Thor:Ragnarok  Marvel      130     2017   \n",
       "18                           Black Panther  Marvel      134     2018   \n",
       "13              Captain America: Civil War  Marvel      147     2016   \n",
       "6                             The Avengers  Marvel      143     2012   \n",
       "9      Captain America: The Winter Soldier  Marvel      136     2014   \n",
       "35                            Wonder Woman      DC      141     2017   \n",
       "14                          Doctor Strange  Marvel      115     2016   \n",
       "23               Spider-Man: Far from Home  Marvel      129     2019   \n",
       "16                  Spider-Man: Homecoming  Marvel      133     2017   \n",
       "15          Guardians of the Galaxy Vol. 2  Marvel      136     2017   \n",
       "11                Avengers: Age of Ultron   Marvel      141     2015   \n",
       "38                                 Shazam!      DC      132     2019   \n",
       "20                    Ant-Man and the Wasp  Marvel      118     2018   \n",
       "12                                 Ant-Man  Marvel      117     2015   \n",
       "28                                Watchmen      DC      162     2009   \n",
       "7                           Iron Man Three  Marvel      130     2013   \n",
       "5       Captain America: The First Avenger  Marvel      124     2011   \n",
       "21                          Captain Marvel  Marvel      123     2019   \n",
       "32                            Man of Steel      DC      143     2013   \n",
       "3                               Iron Man 2  Marvel      124     2010   \n",
       "4                                     Thor  Marvel      115     2011   \n",
       "37                                 Aquaman      DC      143     2018   \n",
       "2                      The Incredible Hulk  Marvel      112     2008   \n",
       "8                     Thor: The Dark World  Marvel      112     2013   \n",
       "26                        Superman Returns      DC      154     2006   \n",
       "33      Batman v Superman: Dawn of Justice      DC      151     2016   \n",
       "36                          Justice League      DC      120     2017   \n",
       "34                          Suicide Squad       DC      123     2016   \n",
       "30                           Green Lantern      DC      114     2011   \n",
       "29                              Jonah Hex       DC       81     2010   \n",
       "24                                Catwoman      DC      104     2004   \n",
       "\n",
       "          Budget  Opening Weekend USA  Gross USA  Gross Worldwide  Rating  \n",
       "Sr.No                                                                      \n",
       "27     185000000            158411483  535234033       1004934033   2.472  \n",
       "22     356000000            357115007  858373000       2797800564   2.324  \n",
       "31     250000000            160887295  448139099       1081041287   2.304  \n",
       "19     321000000            257698183  678815482       2048359754   2.244  \n",
       "1      140000000             98618668  318604126        585366247   2.212  \n",
       "39      55000000             96202337  333204580       1060504580   2.212  \n",
       "10     170000000             94320883  333176600        772776600   2.208  \n",
       "25     150000000             48745440  206852432        373413297   2.200  \n",
       "17     180000000            122744989  315058289        853977126   2.172  \n",
       "18     200000000            202003951  700059566       1346913161   2.164  \n",
       "13     250000000            179139142  408084349       1153296293   2.160  \n",
       "6      220000000            207438708  623357910       1518812988   2.152  \n",
       "9      170000000             95023721  259766572        714421503   2.100  \n",
       "35     149000000            103251471  412563408        821847012   2.088  \n",
       "14     165000000             85058311  232641920        677718395   2.076  \n",
       "23     160000000             92579212  390532085       1131927996   2.072  \n",
       "16     175000000            117027503  334201140        880166924   2.064  \n",
       "15     200000000            146510104  389813101        863756051   2.056  \n",
       "11     250000000            191271109  459005868       1402805868   1.988  \n",
       "38     100000000             53505326  140371656        364571656   1.988  \n",
       "20     162000000             75812205  216648740        622674139   1.980  \n",
       "12     130000000             57225526  180202163        519311965   1.972  \n",
       "28     130000000             55214334  107509799        185258983   1.968  \n",
       "7      200000000            174144585  409013994       1214811252   1.936  \n",
       "5      140000000             65058524  176654505        370569774   1.908  \n",
       "21     175000000            153433423  426829839       1128274794   1.892  \n",
       "32     225000000            116619362  291045518        668045518   1.860  \n",
       "3      200000000            128122480  312433331        623933331   1.856  \n",
       "4      150000000             65723338  181030624        449326618   1.856  \n",
       "37     160000000             67873522  335061807       1148161807   1.840  \n",
       "2      150000000             55414050  134806913        263427551   1.828  \n",
       "8      170000000             85737841  206362140        644783140   1.812  \n",
       "26     270000000             52535096  200081192        391081192   1.776  \n",
       "33     250000000            166007347  330360194        873634919   1.652  \n",
       "36     300000000             93842239  229024295        657924295   1.640  \n",
       "34     175000000            133682248  325100054        746846894   1.520  \n",
       "30     200000000             53174303  116601172        219851172   1.412  \n",
       "29      47000000              5379365   10547117         10903312   1.204  \n",
       "24     100000000             16728411   40202379         82102379   0.876  "
      ]
     },
     "execution_count": 157,
     "metadata": {},
     "output_type": "execute_result"
    }
   ],
   "source": [
    "df1.sort_values(by=['Rating','Gross Worldwide'],ascending=False)"
   ]
  },
  {
   "cell_type": "code",
   "execution_count": 158,
   "metadata": {
    "scrolled": false
   },
   "outputs": [
    {
     "data": {
      "text/plain": [
       "[Text(0, 0, '-500M'),\n",
       " Text(0, 0, '0M'),\n",
       " Text(0, 0, '500M'),\n",
       " Text(0, 0, '1,000M'),\n",
       " Text(0, 0, '1,500M'),\n",
       " Text(0, 0, '2,000M'),\n",
       " Text(0, 0, '2,500M'),\n",
       " Text(0, 0, '3,000M')]"
      ]
     },
     "execution_count": 158,
     "metadata": {},
     "output_type": "execute_result"
    },
    {
     "data": {
      "image/png": "[encoded data removed]",
      "text/plain": [
       "<Figure size 1008x432 with 1 Axes>"
      ]
     },
     "metadata": {
      "needs_background": "light"
     },
     "output_type": "display_data"
    }
   ],
   "source": [
    "fig= plt.figure(figsize=(14,6))\n",
    "plt.xticks(rotation = 90)\n",
    "g = sns.scatterplot(x = df1['Original Title'],y = df1['Gross Worldwide'],hue = df1['Company'])\n",
    "ylabels = ['{:,.0f}'.format(x) + 'M' for x in g.get_yticks()/1000000]\n",
    "g.set_yticklabels(ylabels)"
   ]
  },
  {
   "cell_type": "code",
   "execution_count": 159,
   "metadata": {},
   "outputs": [],
   "source": [
    "df1['Budget'] = df1['Budget']/1000000\n",
    "df1['Opening Weekend USA'] = df1['Opening Weekend USA']/1000000\n",
    "df1['Gross\\xa0USA'] = df1['Gross\\xa0USA']/1000000\n",
    "df1['Gross Worldwide'] = df1['Gross Worldwide']/1000000"
   ]
  },
  {
   "cell_type": "code",
   "execution_count": 164,
   "metadata": {},
   "outputs": [
    {
     "data": {
      "text/html": [
       "<div>\n",
       "<style scoped>\n",
       "    .dataframe tbody tr th:only-of-type {\n",
       "        vertical-align: middle;\n",
       "    }\n",
       "\n",
       "    .dataframe tbody tr th {\n",
       "        vertical-align: top;\n",
       "    }\n",
       "\n",
       "    .dataframe thead th {\n",
       "        text-align: right;\n",
       "    }\n",
       "</style>\n",
       "<table border=\"1\" class=\"dataframe\">\n",
       "  <thead>\n",
       "    <tr style=\"text-align: right;\">\n",
       "      <th></th>\n",
       "      <th>Original Title</th>\n",
       "      <th>Company</th>\n",
       "      <th>Minutes</th>\n",
       "      <th>Release</th>\n",
       "      <th>Budget</th>\n",
       "      <th>Opening Weekend USA</th>\n",
       "      <th>Gross USA</th>\n",
       "      <th>Gross Worldwide</th>\n",
       "      <th>Rating</th>\n",
       "    </tr>\n",
       "    <tr>\n",
       "      <th>Sr.No</th>\n",
       "      <th></th>\n",
       "      <th></th>\n",
       "      <th></th>\n",
       "      <th></th>\n",
       "      <th></th>\n",
       "      <th></th>\n",
       "      <th></th>\n",
       "      <th></th>\n",
       "      <th></th>\n",
       "    </tr>\n",
       "  </thead>\n",
       "  <tbody>\n",
       "    <tr>\n",
       "      <th>24</th>\n",
       "      <td>Catwoman</td>\n",
       "      <td>DC</td>\n",
       "      <td>104</td>\n",
       "      <td>2004</td>\n",
       "      <td>100.0</td>\n",
       "      <td>16.728411</td>\n",
       "      <td>40.202379</td>\n",
       "      <td>82.102379</td>\n",
       "      <td>0.876</td>\n",
       "    </tr>\n",
       "    <tr>\n",
       "      <th>25</th>\n",
       "      <td>Batman Begins</td>\n",
       "      <td>DC</td>\n",
       "      <td>140</td>\n",
       "      <td>2005</td>\n",
       "      <td>150.0</td>\n",
       "      <td>48.745440</td>\n",
       "      <td>206.852432</td>\n",
       "      <td>373.413297</td>\n",
       "      <td>2.200</td>\n",
       "    </tr>\n",
       "    <tr>\n",
       "      <th>26</th>\n",
       "      <td>Superman Returns</td>\n",
       "      <td>DC</td>\n",
       "      <td>154</td>\n",
       "      <td>2006</td>\n",
       "      <td>270.0</td>\n",
       "      <td>52.535096</td>\n",
       "      <td>200.081192</td>\n",
       "      <td>391.081192</td>\n",
       "      <td>1.776</td>\n",
       "    </tr>\n",
       "    <tr>\n",
       "      <th>27</th>\n",
       "      <td>The Dark Knight</td>\n",
       "      <td>DC</td>\n",
       "      <td>152</td>\n",
       "      <td>2008</td>\n",
       "      <td>185.0</td>\n",
       "      <td>158.411483</td>\n",
       "      <td>535.234033</td>\n",
       "      <td>1004.934033</td>\n",
       "      <td>2.472</td>\n",
       "    </tr>\n",
       "    <tr>\n",
       "      <th>2</th>\n",
       "      <td>The Incredible Hulk</td>\n",
       "      <td>Marvel</td>\n",
       "      <td>112</td>\n",
       "      <td>2008</td>\n",
       "      <td>150.0</td>\n",
       "      <td>55.414050</td>\n",
       "      <td>134.806913</td>\n",
       "      <td>263.427551</td>\n",
       "      <td>1.828</td>\n",
       "    </tr>\n",
       "  </tbody>\n",
       "</table>\n",
       "</div>"
      ],
      "text/plain": [
       "            Original Title Company  Minutes  Release  Budget  \\\n",
       "Sr.No                                                          \n",
       "24                Catwoman      DC      104     2004   100.0   \n",
       "25           Batman Begins      DC      140     2005   150.0   \n",
       "26        Superman Returns      DC      154     2006   270.0   \n",
       "27         The Dark Knight      DC      152     2008   185.0   \n",
       "2      The Incredible Hulk  Marvel      112     2008   150.0   \n",
       "\n",
       "       Opening Weekend USA   Gross USA  Gross Worldwide  Rating  \n",
       "Sr.No                                                            \n",
       "24               16.728411   40.202379        82.102379   0.876  \n",
       "25               48.745440  206.852432       373.413297   2.200  \n",
       "26               52.535096  200.081192       391.081192   1.776  \n",
       "27              158.411483  535.234033      1004.934033   2.472  \n",
       "2                55.414050  134.806913       263.427551   1.828  "
      ]
     },
     "execution_count": 164,
     "metadata": {},
     "output_type": "execute_result"
    }
   ],
   "source": [
    "df1.head()"
   ]
  },
  {
   "cell_type": "code",
   "execution_count": 165,
   "metadata": {
    "scrolled": false
   },
   "outputs": [
    {
     "data": {
      "application/vnd.plotly.v1+json": {
       "config": {
        "plotlyServerURL": "https://plot.ly"
       },
       "data": [
        {
         "hovertemplate": "Company=DC<br>Original Title=%{x}<br>Gross Worldwide=%{y}<extra></extra>",
         "legendgroup": "DC",
         "marker": {
          "color": "#636efa",
          "symbol": "circle"
         },
         "mode": "markers",
         "name": "DC",
         "showlegend": true,
         "type": "scatter",
         "x": [
          "Catwoman",
          "Batman Begins",
          "Superman Returns",
          "The Dark Knight",
          "Watchmen",
          "Jonah Hex ",
          "Green Lantern",
          "The Dark Knight Rises",
          "Man of Steel",
          "Batman v Superman: Dawn of Justice",
          "Suicide Squad ",
          "Justice League",
          "Wonder Woman",
          "Aquaman",
          "Shazam!",
          "Joker"
         ],
         "xaxis": "x",
         "y": [
          82.102379,
          373.413297,
          391.081192,
          1004.934033,
          185.258983,
          10.903312,
          219.851172,
          1081.041287,
          668.045518,
          873.634919,
          746.846894,
          657.924295,
          821.847012,
          1148.161807,
          364.571656,
          1060.50458
         ],
         "yaxis": "y"
        },
        {
         "hovertemplate": "Company=Marvel<br>Original Title=%{x}<br>Gross Worldwide=%{y}<extra></extra>",
         "legendgroup": "Marvel",
         "marker": {
          "color": "#EF553B",
          "symbol": "circle"
         },
         "mode": "markers",
         "name": "Marvel",
         "showlegend": true,
         "type": "scatter",
         "x": [
          "The Incredible Hulk",
          "Iron Man",
          "Iron Man 2",
          "Thor",
          "Captain America: The First Avenger",
          "The Avengers",
          "Thor: The Dark World",
          "Iron Man Three",
          "Captain America: The Winter Soldier",
          "Guardians of the Galaxy",
          "Avengers: Age of Ultron ",
          "Ant-Man",
          "Doctor Strange",
          "Captain America: Civil War",
          "Spider-Man: Homecoming",
          "Guardians of the Galaxy Vol. 2",
          "Thor:Ragnarok",
          "Avengers: Infinity War",
          "Black Panther",
          "Ant-Man and the Wasp",
          "Avengers: Endgame",
          "Captain Marvel",
          "Spider-Man: Far from Home"
         ],
         "xaxis": "x",
         "y": [
          263.427551,
          585.366247,
          623.933331,
          449.326618,
          370.569774,
          1518.812988,
          644.78314,
          1214.811252,
          714.421503,
          772.7766,
          1402.805868,
          519.311965,
          677.718395,
          1153.296293,
          880.166924,
          863.756051,
          853.977126,
          2048.359754,
          1346.913161,
          622.674139,
          2797.800564,
          1128.274794,
          1131.927996
         ],
         "yaxis": "y"
        }
       ],
       "layout": {
        "legend": {
         "title": {
          "text": "Company"
         },
         "tracegroupgap": 0
        },
        "margin": {
         "t": 60
        },
        "template": {
         "data": {
          "bar": [
           {
            "error_x": {
             "color": "#2a3f5f"
            },
            "error_y": {
             "color": "#2a3f5f"
            },
            "marker": {
             "line": {
              "color": "#E5ECF6",
              "width": 0.5
             }
            },
            "type": "bar"
           }
          ],
          "barpolar": [
           {
            "marker": {
             "line": {
              "color": "#E5ECF6",
              "width": 0.5
             }
            },
            "type": "barpolar"
           }
          ],
          "carpet": [
           {
            "aaxis": {
             "endlinecolor": "#2a3f5f",
             "gridcolor": "white",
             "linecolor": "white",
             "minorgridcolor": "white",
             "startlinecolor": "#2a3f5f"
            },
            "baxis": {
             "endlinecolor": "#2a3f5f",
             "gridcolor": "white",
             "linecolor": "white",
             "minorgridcolor": "white",
             "startlinecolor": "#2a3f5f"
            },
            "type": "carpet"
           }
          ],
          "choropleth": [
           {
            "colorbar": {
             "outlinewidth": 0,
             "ticks": ""
            },
            "type": "choropleth"
           }
          ],
          "contour": [
           {
            "colorbar": {
             "outlinewidth": 0,
             "ticks": ""
            },
            "colorscale": [
             [
              0,
              "#0d0887"
             ],
             [
              0.1111111111111111,
              "#46039f"
             ],
             [
              0.2222222222222222,
              "#7201a8"
             ],
             [
              0.3333333333333333,
              "#9c179e"
             ],
             [
              0.4444444444444444,
              "#bd3786"
             ],
             [
              0.5555555555555556,
              "#d8576b"
             ],
             [
              0.6666666666666666,
              "#ed7953"
             ],
             [
              0.7777777777777778,
              "#fb9f3a"
             ],
             [
              0.8888888888888888,
              "#fdca26"
             ],
             [
              1,
              "#f0f921"
             ]
            ],
            "type": "contour"
           }
          ],
          "contourcarpet": [
           {
            "colorbar": {
             "outlinewidth": 0,
             "ticks": ""
            },
            "type": "contourcarpet"
           }
          ],
          "heatmap": [
           {
            "colorbar": {
             "outlinewidth": 0,
             "ticks": ""
            },
            "colorscale": [
             [
              0,
              "#0d0887"
             ],
             [
              0.1111111111111111,
              "#46039f"
             ],
             [
              0.2222222222222222,
              "#7201a8"
             ],
             [
              0.3333333333333333,
              "#9c179e"
             ],
             [
              0.4444444444444444,
              "#bd3786"
             ],
             [
              0.5555555555555556,
              "#d8576b"
             ],
             [
              0.6666666666666666,
              "#ed7953"
             ],
             [
              0.7777777777777778,
              "#fb9f3a"
             ],
             [
              0.8888888888888888,
              "#fdca26"
             ],
             [
              1,
              "#f0f921"
             ]
            ],
            "type": "heatmap"
           }
          ],
          "heatmapgl": [
           {
            "colorbar": {
             "outlinewidth": 0,
             "ticks": ""
            },
            "colorscale": [
             [
              0,
              "#0d0887"
             ],
             [
              0.1111111111111111,
              "#46039f"
             ],
             [
              0.2222222222222222,
              "#7201a8"
             ],
             [
              0.3333333333333333,
              "#9c179e"
             ],
             [
              0.4444444444444444,
              "#bd3786"
             ],
             [
              0.5555555555555556,
              "#d8576b"
             ],
             [
              0.6666666666666666,
              "#ed7953"
             ],
             [
              0.7777777777777778,
              "#fb9f3a"
             ],
             [
              0.8888888888888888,
              "#fdca26"
             ],
             [
              1,
              "#f0f921"
             ]
            ],
            "type": "heatmapgl"
           }
          ],
          "histogram": [
           {
            "marker": {
             "colorbar": {
              "outlinewidth": 0,
              "ticks": ""
             }
            },
            "type": "histogram"
           }
          ],
          "histogram2d": [
           {
            "colorbar": {
             "outlinewidth": 0,
             "ticks": ""
            },
            "colorscale": [
             [
              0,
              "#0d0887"
             ],
             [
              0.1111111111111111,
              "#46039f"
             ],
             [
              0.2222222222222222,
              "#7201a8"
             ],
             [
              0.3333333333333333,
              "#9c179e"
             ],
             [
              0.4444444444444444,
              "#bd3786"
             ],
             [
              0.5555555555555556,
              "#d8576b"
             ],
             [
              0.6666666666666666,
              "#ed7953"
             ],
             [
              0.7777777777777778,
              "#fb9f3a"
             ],
             [
              0.8888888888888888,
              "#fdca26"
             ],
             [
              1,
              "#f0f921"
             ]
            ],
            "type": "histogram2d"
           }
          ],
          "histogram2dcontour": [
           {
            "colorbar": {
             "outlinewidth": 0,
             "ticks": ""
            },
            "colorscale": [
             [
              0,
              "#0d0887"
             ],
             [
              0.1111111111111111,
              "#46039f"
             ],
             [
              0.2222222222222222,
              "#7201a8"
             ],
             [
              0.3333333333333333,
              "#9c179e"
             ],
             [
              0.4444444444444444,
              "#bd3786"
             ],
             [
              0.5555555555555556,
              "#d8576b"
             ],
             [
              0.6666666666666666,
              "#ed7953"
             ],
             [
              0.7777777777777778,
              "#fb9f3a"
             ],
             [
              0.8888888888888888,
              "#fdca26"
             ],
             [
              1,
              "#f0f921"
             ]
            ],
            "type": "histogram2dcontour"
           }
          ],
          "mesh3d": [
           {
            "colorbar": {
             "outlinewidth": 0,
             "ticks": ""
            },
            "type": "mesh3d"
           }
          ],
          "parcoords": [
           {
            "line": {
             "colorbar": {
              "outlinewidth": 0,
              "ticks": ""
             }
            },
            "type": "parcoords"
           }
          ],
          "pie": [
           {
            "automargin": true,
            "type": "pie"
           }
          ],
          "scatter": [
           {
            "marker": {
             "colorbar": {
              "outlinewidth": 0,
              "ticks": ""
             }
            },
            "type": "scatter"
           }
          ],
          "scatter3d": [
           {
            "line": {
             "colorbar": {
              "outlinewidth": 0,
              "ticks": ""
             }
            },
            "marker": {
             "colorbar": {
              "outlinewidth": 0,
              "ticks": ""
             }
            },
            "type": "scatter3d"
           }
          ],
          "scattercarpet": [
           {
            "marker": {
             "colorbar": {
              "outlinewidth": 0,
              "ticks": ""
             }
            },
            "type": "scattercarpet"
           }
          ],
          "scattergeo": [
           {
            "marker": {
             "colorbar": {
              "outlinewidth": 0,
              "ticks": ""
             }
            },
            "type": "scattergeo"
           }
          ],
          "scattergl": [
           {
            "marker": {
             "colorbar": {
              "outlinewidth": 0,
              "ticks": ""
             }
            },
            "type": "scattergl"
           }
          ],
          "scattermapbox": [
           {
            "marker": {
             "colorbar": {
              "outlinewidth": 0,
              "ticks": ""
             }
            },
            "type": "scattermapbox"
           }
          ],
          "scatterpolar": [
           {
            "marker": {
             "colorbar": {
              "outlinewidth": 0,
              "ticks": ""
             }
            },
            "type": "scatterpolar"
           }
          ],
          "scatterpolargl": [
           {
            "marker": {
             "colorbar": {
              "outlinewidth": 0,
              "ticks": ""
             }
            },
            "type": "scatterpolargl"
           }
          ],
          "scatterternary": [
           {
            "marker": {
             "colorbar": {
              "outlinewidth": 0,
              "ticks": ""
             }
            },
            "type": "scatterternary"
           }
          ],
          "surface": [
           {
            "colorbar": {
             "outlinewidth": 0,
             "ticks": ""
            },
            "colorscale": [
             [
              0,
              "#0d0887"
             ],
             [
              0.1111111111111111,
              "#46039f"
             ],
             [
              0.2222222222222222,
              "#7201a8"
             ],
             [
              0.3333333333333333,
              "#9c179e"
             ],
             [
              0.4444444444444444,
              "#bd3786"
             ],
             [
              0.5555555555555556,
              "#d8576b"
             ],
             [
              0.6666666666666666,
              "#ed7953"
             ],
             [
              0.7777777777777778,
              "#fb9f3a"
             ],
             [
              0.8888888888888888,
              "#fdca26"
             ],
             [
              1,
              "#f0f921"
             ]
            ],
            "type": "surface"
           }
          ],
          "table": [
           {
            "cells": {
             "fill": {
              "color": "#EBF0F8"
             },
             "line": {
              "color": "white"
             }
            },
            "header": {
             "fill": {
              "color": "#C8D4E3"
             },
             "line": {
              "color": "white"
             }
            },
            "type": "table"
           }
          ]
         },
         "layout": {
          "annotationdefaults": {
           "arrowcolor": "#2a3f5f",
           "arrowhead": 0,
           "arrowwidth": 1
          },
          "coloraxis": {
           "colorbar": {
            "outlinewidth": 0,
            "ticks": ""
           }
          },
          "colorscale": {
           "diverging": [
            [
             0,
             "#8e0152"
            ],
            [
             0.1,
             "#c51b7d"
            ],
            [
             0.2,
             "#de77ae"
            ],
            [
             0.3,
             "#f1b6da"
            ],
            [
             0.4,
             "#fde0ef"
            ],
            [
             0.5,
             "#f7f7f7"
            ],
            [
             0.6,
             "#e6f5d0"
            ],
            [
             0.7,
             "#b8e186"
            ],
            [
             0.8,
             "#7fbc41"
            ],
            [
             0.9,
             "#4d9221"
            ],
            [
             1,
             "#276419"
            ]
           ],
           "sequential": [
            [
             0,
             "#0d0887"
            ],
            [
             0.1111111111111111,
             "#46039f"
            ],
            [
             0.2222222222222222,
             "#7201a8"
            ],
            [
             0.3333333333333333,
             "#9c179e"
            ],
            [
             0.4444444444444444,
             "#bd3786"
            ],
            [
             0.5555555555555556,
             "#d8576b"
            ],
            [
             0.6666666666666666,
             "#ed7953"
            ],
            [
             0.7777777777777778,
             "#fb9f3a"
            ],
            [
             0.8888888888888888,
             "#fdca26"
            ],
            [
             1,
             "#f0f921"
            ]
           ],
           "sequentialminus": [
            [
             0,
             "#0d0887"
            ],
            [
             0.1111111111111111,
             "#46039f"
            ],
            [
             0.2222222222222222,
             "#7201a8"
            ],
            [
             0.3333333333333333,
             "#9c179e"
            ],
            [
             0.4444444444444444,
             "#bd3786"
            ],
            [
             0.5555555555555556,
             "#d8576b"
            ],
            [
             0.6666666666666666,
             "#ed7953"
            ],
            [
             0.7777777777777778,
             "#fb9f3a"
            ],
            [
             0.8888888888888888,
             "#fdca26"
            ],
            [
             1,
             "#f0f921"
            ]
           ]
          },
          "colorway": [
           "#636efa",
           "#EF553B",
           "#00cc96",
           "#ab63fa",
           "#FFA15A",
           "#19d3f3",
           "#FF6692",
           "#B6E880",
           "#FF97FF",
           "#FECB52"
          ],
          "font": {
           "color": "#2a3f5f"
          },
          "geo": {
           "bgcolor": "white",
           "lakecolor": "white",
           "landcolor": "#E5ECF6",
           "showlakes": true,
           "showland": true,
           "subunitcolor": "white"
          },
          "hoverlabel": {
           "align": "left"
          },
          "hovermode": "closest",
          "mapbox": {
           "style": "light"
          },
          "paper_bgcolor": "white",
          "plot_bgcolor": "#E5ECF6",
          "polar": {
           "angularaxis": {
            "gridcolor": "white",
            "linecolor": "white",
            "ticks": ""
           },
           "bgcolor": "#E5ECF6",
           "radialaxis": {
            "gridcolor": "white",
            "linecolor": "white",
            "ticks": ""
           }
          },
          "scene": {
           "xaxis": {
            "backgroundcolor": "#E5ECF6",
            "gridcolor": "white",
            "gridwidth": 2,
            "linecolor": "white",
            "showbackground": true,
            "ticks": "",
            "zerolinecolor": "white"
           },
           "yaxis": {
            "backgroundcolor": "#E5ECF6",
            "gridcolor": "white",
            "gridwidth": 2,
            "linecolor": "white",
            "showbackground": true,
            "ticks": "",
            "zerolinecolor": "white"
           },
           "zaxis": {
            "backgroundcolor": "#E5ECF6",
            "gridcolor": "white",
            "gridwidth": 2,
            "linecolor": "white",
            "showbackground": true,
            "ticks": "",
            "zerolinecolor": "white"
           }
          },
          "shapedefaults": {
           "line": {
            "color": "#2a3f5f"
           }
          },
          "ternary": {
           "aaxis": {
            "gridcolor": "white",
            "linecolor": "white",
            "ticks": ""
           },
           "baxis": {
            "gridcolor": "white",
            "linecolor": "white",
            "ticks": ""
           },
           "bgcolor": "#E5ECF6",
           "caxis": {
            "gridcolor": "white",
            "linecolor": "white",
            "ticks": ""
           }
          },
          "title": {
           "x": 0.05
          },
          "xaxis": {
           "automargin": true,
           "gridcolor": "white",
           "linecolor": "white",
           "ticks": "",
           "title": {
            "standoff": 15
           },
           "zerolinecolor": "white",
           "zerolinewidth": 2
          },
          "yaxis": {
           "automargin": true,
           "gridcolor": "white",
           "linecolor": "white",
           "ticks": "",
           "title": {
            "standoff": 15
           },
           "zerolinecolor": "white",
           "zerolinewidth": 2
          }
         }
        },
        "xaxis": {
         "anchor": "y",
         "domain": [
          0,
          1
         ],
         "title": {
          "text": "Original Title"
         }
        },
        "yaxis": {
         "anchor": "x",
         "domain": [
          0,
          1
         ],
         "title": {
          "text": "Gross Worldwide"
         }
        }
       }
      },
      "text/html": [
       "<div>\n",
       "        \n",
       "        \n",
       "            <div id=\"f350a8a5-c67b-4159-8d49-ffccfd0a8e5f\" class=\"plotly-graph-div\" style=\"height:525px; width:100%;\"></div>\n",
       "            <script type=\"text/javascript\">\n",
       "                require([\"plotly\"], function(Plotly) {\n",
       "                    window.PLOTLYENV=window.PLOTLYENV || {};\n",
       "                    \n",
       "                if (document.getElementById(\"f350a8a5-c67b-4159-8d49-ffccfd0a8e5f\")) {\n",
       "                    Plotly.newPlot(\n",
       "                        'f350a8a5-c67b-4159-8d49-ffccfd0a8e5f',\n",
       "                        [{\"hovertemplate\": \"Company=DC<br>Original Title=%{x}<br>Gross Worldwide=%{y}<extra></extra>\", \"legendgroup\": \"DC\", \"marker\": {\"color\": \"#636efa\", \"symbol\": \"circle\"}, \"mode\": \"markers\", \"name\": \"DC\", \"showlegend\": true, \"type\": \"scatter\", \"x\": [\"Catwoman\", \"Batman Begins\", \"Superman Returns\", \"The Dark Knight\", \"Watchmen\", \"Jonah Hex\\u00a0\", \"Green Lantern\", \"The Dark Knight Rises\", \"Man of Steel\", \"Batman v Superman: Dawn of Justice\", \"Suicide Squad\\u00a0\", \"Justice League\", \"Wonder Woman\", \"Aquaman\", \"Shazam!\", \"Joker\"], \"xaxis\": \"x\", \"y\": [82.102379, 373.413297, 391.081192, 1004.934033, 185.258983, 10.903312, 219.851172, 1081.041287, 668.045518, 873.634919, 746.846894, 657.924295, 821.847012, 1148.161807, 364.571656, 1060.50458], \"yaxis\": \"y\"}, {\"hovertemplate\": \"Company=Marvel<br>Original Title=%{x}<br>Gross Worldwide=%{y}<extra></extra>\", \"legendgroup\": \"Marvel\", \"marker\": {\"color\": \"#EF553B\", \"symbol\": \"circle\"}, \"mode\": \"markers\", \"name\": \"Marvel\", \"showlegend\": true, \"type\": \"scatter\", \"x\": [\"The Incredible Hulk\", \"Iron Man\", \"Iron Man 2\", \"Thor\", \"Captain America: The First Avenger\", \"The Avengers\", \"Thor: The Dark World\", \"Iron Man Three\", \"Captain America: The Winter Soldier\", \"Guardians of the Galaxy\", \"Avengers: Age of Ultron\\u00a0\", \"Ant-Man\", \"Doctor Strange\", \"Captain America: Civil War\", \"Spider-Man: Homecoming\", \"Guardians of the Galaxy Vol. 2\", \"Thor:Ragnarok\", \"Avengers: Infinity War\", \"Black Panther\", \"Ant-Man and the Wasp\", \"Avengers: Endgame\", \"Captain Marvel\", \"Spider-Man: Far from Home\"], \"xaxis\": \"x\", \"y\": [263.427551, 585.366247, 623.933331, 449.326618, 370.569774, 1518.812988, 644.78314, 1214.811252, 714.421503, 772.7766, 1402.805868, 519.311965, 677.718395, 1153.296293, 880.166924, 863.756051, 853.977126, 2048.359754, 1346.913161, 622.674139, 2797.800564, 1128.274794, 1131.927996], \"yaxis\": \"y\"}],\n",
       "                        {\"legend\": {\"title\": {\"text\": \"Company\"}, \"tracegroupgap\": 0}, \"margin\": {\"t\": 60}, \"template\": {\"data\": {\"bar\": [{\"error_x\": {\"color\": \"#2a3f5f\"}, \"error_y\": {\"color\": \"#2a3f5f\"}, \"marker\": {\"line\": {\"color\": \"#E5ECF6\", \"width\": 0.5}}, \"type\": \"bar\"}], \"barpolar\": [{\"marker\": {\"line\": {\"color\": \"#E5ECF6\", \"width\": 0.5}}, \"type\": \"barpolar\"}], \"carpet\": [{\"aaxis\": {\"endlinecolor\": \"#2a3f5f\", \"gridcolor\": \"white\", \"linecolor\": \"white\", \"minorgridcolor\": \"white\", \"startlinecolor\": \"#2a3f5f\"}, \"baxis\": {\"endlinecolor\": \"#2a3f5f\", \"gridcolor\": \"white\", \"linecolor\": \"white\", \"minorgridcolor\": \"white\", \"startlinecolor\": \"#2a3f5f\"}, \"type\": \"carpet\"}], \"choropleth\": [{\"colorbar\": {\"outlinewidth\": 0, \"ticks\": \"\"}, \"type\": \"choropleth\"}], \"contour\": [{\"colorbar\": {\"outlinewidth\": 0, \"ticks\": \"\"}, \"colorscale\": [[0.0, \"#0d0887\"], [0.1111111111111111, \"#46039f\"], [0.2222222222222222, \"#7201a8\"], [0.3333333333333333, \"#9c179e\"], [0.4444444444444444, \"#bd3786\"], [0.5555555555555556, \"#d8576b\"], [0.6666666666666666, \"#ed7953\"], [0.7777777777777778, \"#fb9f3a\"], [0.8888888888888888, \"#fdca26\"], [1.0, \"#f0f921\"]], \"type\": \"contour\"}], \"contourcarpet\": [{\"colorbar\": {\"outlinewidth\": 0, \"ticks\": \"\"}, \"type\": \"contourcarpet\"}], \"heatmap\": [{\"colorbar\": {\"outlinewidth\": 0, \"ticks\": \"\"}, \"colorscale\": [[0.0, \"#0d0887\"], [0.1111111111111111, \"#46039f\"], [0.2222222222222222, \"#7201a8\"], [0.3333333333333333, \"#9c179e\"], [0.4444444444444444, \"#bd3786\"], [0.5555555555555556, \"#d8576b\"], [0.6666666666666666, \"#ed7953\"], [0.7777777777777778, \"#fb9f3a\"], [0.8888888888888888, \"#fdca26\"], [1.0, \"#f0f921\"]], \"type\": \"heatmap\"}], \"heatmapgl\": [{\"colorbar\": {\"outlinewidth\": 0, \"ticks\": \"\"}, \"colorscale\": [[0.0, \"#0d0887\"], [0.1111111111111111, \"#46039f\"], [0.2222222222222222, \"#7201a8\"], [0.3333333333333333, \"#9c179e\"], [0.4444444444444444, \"#bd3786\"], [0.5555555555555556, \"#d8576b\"], [0.6666666666666666, \"#ed7953\"], [0.7777777777777778, \"#fb9f3a\"], [0.8888888888888888, \"#fdca26\"], [1.0, \"#f0f921\"]], \"type\": \"heatmapgl\"}], \"histogram\": [{\"marker\": {\"colorbar\": {\"outlinewidth\": 0, \"ticks\": \"\"}}, \"type\": \"histogram\"}], \"histogram2d\": [{\"colorbar\": {\"outlinewidth\": 0, \"ticks\": \"\"}, \"colorscale\": [[0.0, \"#0d0887\"], [0.1111111111111111, \"#46039f\"], [0.2222222222222222, \"#7201a8\"], [0.3333333333333333, \"#9c179e\"], [0.4444444444444444, \"#bd3786\"], [0.5555555555555556, \"#d8576b\"], [0.6666666666666666, \"#ed7953\"], [0.7777777777777778, \"#fb9f3a\"], [0.8888888888888888, \"#fdca26\"], [1.0, \"#f0f921\"]], \"type\": \"histogram2d\"}], \"histogram2dcontour\": [{\"colorbar\": {\"outlinewidth\": 0, \"ticks\": \"\"}, \"colorscale\": [[0.0, \"#0d0887\"], [0.1111111111111111, \"#46039f\"], [0.2222222222222222, \"#7201a8\"], [0.3333333333333333, \"#9c179e\"], [0.4444444444444444, \"#bd3786\"], [0.5555555555555556, \"#d8576b\"], [0.6666666666666666, \"#ed7953\"], [0.7777777777777778, \"#fb9f3a\"], [0.8888888888888888, \"#fdca26\"], [1.0, \"#f0f921\"]], \"type\": \"histogram2dcontour\"}], \"mesh3d\": [{\"colorbar\": {\"outlinewidth\": 0, \"ticks\": \"\"}, \"type\": \"mesh3d\"}], \"parcoords\": [{\"line\": {\"colorbar\": {\"outlinewidth\": 0, \"ticks\": \"\"}}, \"type\": \"parcoords\"}], \"pie\": [{\"automargin\": true, \"type\": \"pie\"}], \"scatter\": [{\"marker\": {\"colorbar\": {\"outlinewidth\": 0, \"ticks\": \"\"}}, \"type\": \"scatter\"}], \"scatter3d\": [{\"line\": {\"colorbar\": {\"outlinewidth\": 0, \"ticks\": \"\"}}, \"marker\": {\"colorbar\": {\"outlinewidth\": 0, \"ticks\": \"\"}}, \"type\": \"scatter3d\"}], \"scattercarpet\": [{\"marker\": {\"colorbar\": {\"outlinewidth\": 0, \"ticks\": \"\"}}, \"type\": \"scattercarpet\"}], \"scattergeo\": [{\"marker\": {\"colorbar\": {\"outlinewidth\": 0, \"ticks\": \"\"}}, \"type\": \"scattergeo\"}], \"scattergl\": [{\"marker\": {\"colorbar\": {\"outlinewidth\": 0, \"ticks\": \"\"}}, \"type\": \"scattergl\"}], \"scattermapbox\": [{\"marker\": {\"colorbar\": {\"outlinewidth\": 0, \"ticks\": \"\"}}, \"type\": \"scattermapbox\"}], \"scatterpolar\": [{\"marker\": {\"colorbar\": {\"outlinewidth\": 0, \"ticks\": \"\"}}, \"type\": \"scatterpolar\"}], \"scatterpolargl\": [{\"marker\": {\"colorbar\": {\"outlinewidth\": 0, \"ticks\": \"\"}}, \"type\": \"scatterpolargl\"}], \"scatterternary\": [{\"marker\": {\"colorbar\": {\"outlinewidth\": 0, \"ticks\": \"\"}}, \"type\": \"scatterternary\"}], \"surface\": [{\"colorbar\": {\"outlinewidth\": 0, \"ticks\": \"\"}, \"colorscale\": [[0.0, \"#0d0887\"], [0.1111111111111111, \"#46039f\"], [0.2222222222222222, \"#7201a8\"], [0.3333333333333333, \"#9c179e\"], [0.4444444444444444, \"#bd3786\"], [0.5555555555555556, \"#d8576b\"], [0.6666666666666666, \"#ed7953\"], [0.7777777777777778, \"#fb9f3a\"], [0.8888888888888888, \"#fdca26\"], [1.0, \"#f0f921\"]], \"type\": \"surface\"}], \"table\": [{\"cells\": {\"fill\": {\"color\": \"#EBF0F8\"}, \"line\": {\"color\": \"white\"}}, \"header\": {\"fill\": {\"color\": \"#C8D4E3\"}, \"line\": {\"color\": \"white\"}}, \"type\": \"table\"}]}, \"layout\": {\"annotationdefaults\": {\"arrowcolor\": \"#2a3f5f\", \"arrowhead\": 0, \"arrowwidth\": 1}, \"coloraxis\": {\"colorbar\": {\"outlinewidth\": 0, \"ticks\": \"\"}}, \"colorscale\": {\"diverging\": [[0, \"#8e0152\"], [0.1, \"#c51b7d\"], [0.2, \"#de77ae\"], [0.3, \"#f1b6da\"], [0.4, \"#fde0ef\"], [0.5, \"#f7f7f7\"], [0.6, \"#e6f5d0\"], [0.7, \"#b8e186\"], [0.8, \"#7fbc41\"], [0.9, \"#4d9221\"], [1, \"#276419\"]], \"sequential\": [[0.0, \"#0d0887\"], [0.1111111111111111, \"#46039f\"], [0.2222222222222222, \"#7201a8\"], [0.3333333333333333, \"#9c179e\"], [0.4444444444444444, \"#bd3786\"], [0.5555555555555556, \"#d8576b\"], [0.6666666666666666, \"#ed7953\"], [0.7777777777777778, \"#fb9f3a\"], [0.8888888888888888, \"#fdca26\"], [1.0, \"#f0f921\"]], \"sequentialminus\": [[0.0, \"#0d0887\"], [0.1111111111111111, \"#46039f\"], [0.2222222222222222, \"#7201a8\"], [0.3333333333333333, \"#9c179e\"], [0.4444444444444444, \"#bd3786\"], [0.5555555555555556, \"#d8576b\"], [0.6666666666666666, \"#ed7953\"], [0.7777777777777778, \"#fb9f3a\"], [0.8888888888888888, \"#fdca26\"], [1.0, \"#f0f921\"]]}, \"colorway\": [\"#636efa\", \"#EF553B\", \"#00cc96\", \"#ab63fa\", \"#FFA15A\", \"#19d3f3\", \"#FF6692\", \"#B6E880\", \"#FF97FF\", \"#FECB52\"], \"font\": {\"color\": \"#2a3f5f\"}, \"geo\": {\"bgcolor\": \"white\", \"lakecolor\": \"white\", \"landcolor\": \"#E5ECF6\", \"showlakes\": true, \"showland\": true, \"subunitcolor\": \"white\"}, \"hoverlabel\": {\"align\": \"left\"}, \"hovermode\": \"closest\", \"mapbox\": {\"style\": \"light\"}, \"paper_bgcolor\": \"white\", \"plot_bgcolor\": \"#E5ECF6\", \"polar\": {\"angularaxis\": {\"gridcolor\": \"white\", \"linecolor\": \"white\", \"ticks\": \"\"}, \"bgcolor\": \"#E5ECF6\", \"radialaxis\": {\"gridcolor\": \"white\", \"linecolor\": \"white\", \"ticks\": \"\"}}, \"scene\": {\"xaxis\": {\"backgroundcolor\": \"#E5ECF6\", \"gridcolor\": \"white\", \"gridwidth\": 2, \"linecolor\": \"white\", \"showbackground\": true, \"ticks\": \"\", \"zerolinecolor\": \"white\"}, \"yaxis\": {\"backgroundcolor\": \"#E5ECF6\", \"gridcolor\": \"white\", \"gridwidth\": 2, \"linecolor\": \"white\", \"showbackground\": true, \"ticks\": \"\", \"zerolinecolor\": \"white\"}, \"zaxis\": {\"backgroundcolor\": \"#E5ECF6\", \"gridcolor\": \"white\", \"gridwidth\": 2, \"linecolor\": \"white\", \"showbackground\": true, \"ticks\": \"\", \"zerolinecolor\": \"white\"}}, \"shapedefaults\": {\"line\": {\"color\": \"#2a3f5f\"}}, \"ternary\": {\"aaxis\": {\"gridcolor\": \"white\", \"linecolor\": \"white\", \"ticks\": \"\"}, \"baxis\": {\"gridcolor\": \"white\", \"linecolor\": \"white\", \"ticks\": \"\"}, \"bgcolor\": \"#E5ECF6\", \"caxis\": {\"gridcolor\": \"white\", \"linecolor\": \"white\", \"ticks\": \"\"}}, \"title\": {\"x\": 0.05}, \"xaxis\": {\"automargin\": true, \"gridcolor\": \"white\", \"linecolor\": \"white\", \"ticks\": \"\", \"title\": {\"standoff\": 15}, \"zerolinecolor\": \"white\", \"zerolinewidth\": 2}, \"yaxis\": {\"automargin\": true, \"gridcolor\": \"white\", \"linecolor\": \"white\", \"ticks\": \"\", \"title\": {\"standoff\": 15}, \"zerolinecolor\": \"white\", \"zerolinewidth\": 2}}}, \"xaxis\": {\"anchor\": \"y\", \"domain\": [0.0, 1.0], \"title\": {\"text\": \"Original Title\"}}, \"yaxis\": {\"anchor\": \"x\", \"domain\": [0.0, 1.0], \"title\": {\"text\": \"Gross Worldwide\"}}},\n",
       "                        {\"responsive\": true}\n",
       "                    ).then(function(){\n",
       "                            \n",
       "var gd = document.getElementById('f350a8a5-c67b-4159-8d49-ffccfd0a8e5f');\n",
       "var x = new MutationObserver(function (mutations, observer) {{\n",
       "        var display = window.getComputedStyle(gd).display;\n",
       "        if (!display || display === 'none') {{\n",
       "            console.log([gd, 'removed!']);\n",
       "            Plotly.purge(gd);\n",
       "            observer.disconnect();\n",
       "        }}\n",
       "}});\n",
       "\n",
       "// Listen for the removal of the full notebook cells\n",
       "var notebookContainer = gd.closest('#notebook-container');\n",
       "if (notebookContainer) {{\n",
       "    x.observe(notebookContainer, {childList: true});\n",
       "}}\n",
       "\n",
       "// Listen for the clearing of the current output cell\n",
       "var outputEl = gd.closest('.output');\n",
       "if (outputEl) {{\n",
       "    x.observe(outputEl, {childList: true});\n",
       "}}\n",
       "\n",
       "                        })\n",
       "                };\n",
       "                });\n",
       "            </script>\n",
       "        </div>"
      ]
     },
     "metadata": {},
     "output_type": "display_data"
    }
   ],
   "source": [
    "px.scatter(df1,x = 'Original Title',y = 'Gross Worldwide',color = 'Company')"
   ]
  },
  {
   "cell_type": "code",
   "execution_count": null,
   "metadata": {
    "scrolled": false
   },
   "outputs": [],
   "source": []
  },
  {
   "cell_type": "code",
   "execution_count": null,
   "metadata": {},
   "outputs": [],
   "source": []
  }
 ],
 "metadata": {
  "kernelspec": {
   "display_name": "Python 3",
   "language": "python",
   "name": "python3"
  },
  "language_info": {
   "codemirror_mode": {
    "name": "ipython",
    "version": 3
   },
   "file_extension": ".py",
   "mimetype": "text/x-python",
   "name": "python",
   "nbconvert_exporter": "python",
   "pygments_lexer": "ipython3",
   "version": "3.7.6"
  }
 },
 "nbformat": 4,
 "nbformat_minor": 4
}
